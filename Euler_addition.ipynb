{
 "cells": [
  {
   "cell_type": "code",
   "execution_count": 1,
   "metadata": {
    "collapsed": false
   },
   "outputs": [],
   "source": [
    "import pylab\n",
    "import numpy as np\n",
    "import scipy as sp\n",
    "import pandas as pd"
   ]
  },
  {
   "cell_type": "code",
   "execution_count": 2,
   "metadata": {
    "collapsed": false
   },
   "outputs": [],
   "source": [
    "#VERY IMPORTANT: Make sure you have the correct order of Eulers\n",
    "# - The orginal Euler pole(s) should be M2, or the second term\n",
    "# - The applied Euler pole should be M1, or the first term\n",
    "#\n",
    "# there is an inconvenient \"bug\" with the resultant Euler: it is some odd array of arrays...\n",
    "# ...will try to fix in the future...22May15\n",
    "\n",
    "def euler_add(M1, M2):\n",
    "    Eu2 = M2\n",
    "    Eu1 = M1\n",
    "    #Eulers are defined by a Latitude, Longitude, and rotation amount in CCW being positive\n",
    "    Eul1,Eul2,Eul3 = np.zeros((3,1)),np.zeros((3,1)),np.zeros((3,1))   \n",
    "\n",
    "    Eul1[0] = Eu1[0]*np.pi/180. #convert units to radians\n",
    "    Eul1[1] = Eu1[1]*np.pi/180.\n",
    "    Eul1[2] = Eu1[2]*np.pi/180.\n",
    "    Eul2[0] = Eu2[0]*np.pi/180.\n",
    "    Eul2[1] = Eu2[1]*np.pi/180.\n",
    "    Eul2[2] = Eu2[2]*np.pi/180.\n",
    "\n",
    "    Eul1c,Eul2c,Eul3c = np.zeros((3,1)),np.zeros((3,1)),np.zeros((3,1))\n",
    "    #convert location of Euler poles into Cartesian from Lat/Long\n",
    "    Eul1c[0] = np.cos(Eul1[0])*np.cos(Eul1[1])\n",
    "    Eul1c[1] = np.cos(Eul1[0])*np.sin(Eul1[1])\n",
    "    Eul1c[2] = np.sin(Eul1[0])\n",
    "    Eul2c[0] = np.cos(Eul2[0])*np.cos(Eul2[1])\n",
    "    Eul2c[1] = np.cos(Eul2[0])*np.sin(Eul2[1])\n",
    "    Eul2c[2] = np.sin(Eul2[0])\n",
    "    #Make matrices out of cartesian Euler poles\n",
    "    Eul1m,Eul2m,Eul3m = np.zeros((3,3)),np.zeros((3,3)),np.zeros((3,3))\n",
    "    Eul1m[0,0] = (Eul1c[0]**2.)*(1.-np.cos(Eul1[2]))+np.cos(Eul1[2])\n",
    "    Eul1m[1,1] = (Eul1c[1]**2.)*(1.-np.cos(Eul1[2]))+np.cos(Eul1[2])\n",
    "    Eul1m[2,2] = (Eul1c[2]**2.)*(1.-np.cos(Eul1[2]))+np.cos(Eul1[2])\n",
    "    Eul1m[0,1] = Eul1c[0]*Eul1c[1]*(1.-np.cos(Eul1[2]))-Eul1c[2]*np.sin(Eul1[2])\n",
    "    Eul1m[0,2] = Eul1c[0]*Eul1c[2]*(1.-np.cos(Eul1[2]))+Eul1c[1]*np.sin(Eul1[2])\n",
    "    Eul1m[1,0] = Eul1c[1]*Eul1c[0]*(1.-np.cos(Eul1[2]))+Eul1c[2]*np.sin(Eul1[2])\n",
    "    Eul1m[1,2] = Eul1c[1]*Eul1c[2]*(1.-np.cos(Eul1[2]))-Eul1c[0]*np.sin(Eul1[2])\n",
    "    Eul1m[2,0] = Eul1c[2]*Eul1c[0]*(1.-np.cos(Eul1[2]))-Eul1c[1]*np.sin(Eul1[2])\n",
    "    Eul1m[2,1] = Eul1c[2]*Eul1c[1]*(1.-np.cos(Eul1[2]))+Eul1c[0]*np.sin(Eul1[2])\n",
    "    Eul2m[0,0] = (Eul2c[0]**2.)*(1.-np.cos(Eul2[2]))+np.cos(Eul2[2])\n",
    "    Eul2m[1,1] = (Eul2c[1]**2.)*(1.-np.cos(Eul2[2]))+np.cos(Eul2[2])\n",
    "    Eul2m[2,2] = (Eul2c[2]**2.)*(1.-np.cos(Eul2[2]))+np.cos(Eul2[2])\n",
    "    Eul2m[0,1] = Eul2c[0]*Eul2c[1]*(1.-np.cos(Eul2[2]))-Eul2c[2]*np.sin(Eul2[2])\n",
    "    Eul2m[0,2] = Eul2c[0]*Eul2c[2]*(1.-np.cos(Eul2[2]))+Eul2c[1]*np.sin(Eul2[2])\n",
    "    Eul2m[1,0] = Eul2c[1]*Eul2c[0]*(1.-np.cos(Eul2[2]))+Eul2c[2]*np.sin(Eul2[2])\n",
    "    Eul2m[1,2] = Eul2c[1]*Eul2c[2]*(1.-np.cos(Eul2[2]))-Eul2c[0]*np.sin(Eul2[2])\n",
    "    Eul2m[2,0] = Eul2c[2]*Eul2c[0]*(1.-np.cos(Eul2[2]))-Eul2c[1]*np.sin(Eul2[2])\n",
    "    Eul2m[2,1] = Eul2c[2]*Eul2c[1]*(1.-np.cos(Eul2[2]))+Eul2c[0]*np.sin(Eul2[2])\n",
    "    #Multiply matricies (Or arrays, rather, becaue we are using scipy...)\n",
    "    Eul3m = sp.dot(Eul1m,Eul2m)\n",
    "\n",
    "    Eul3c[0] = np.arcsin((Eul3m[1,0]-Eul3m[0,1])/(np.sqrt((Eul3m[2,1]-Eul3m[1,2])**2+(Eul3m[0,2]-Eul3m[2,0])**2+(Eul3m[1,0]-Eul3m[0,1])**2)))\n",
    "    Eul3c[1] = np.arctan((Eul3m[0,2]-Eul3m[2,0])/((Eul3m[2,1]-Eul3m[1,2])))\n",
    "    Eul3c[2] = np.arctan((np.sqrt((Eul3m[2,1]-Eul3m[1,2])**2+(Eul3m[0,2]-Eul3m[2,0])**2+(Eul3m[1,0]-Eul3m[0,1])**2))/(Eul3m[0,0]+Eul3m[1,1]+Eul3m[2,2]-1))\n",
    "    #Convert radians back to degrees\n",
    "    Eul3 = np.zeros((3,1))\n",
    "    Eul3[0] = Eul3c[0]*180./np.pi\n",
    "    Eul3[1] = Eul3c[1]*180./np.pi\n",
    "    Eul3[2] = Eul3c[2]*180./np.pi\n",
    "    if Eul3[2] < 0:\n",
    "        Eul3[2] = Eul3[2]+180\n",
    "    if Eul3m[2,1]-Eul3m[1,2] > 0:\n",
    "        Eul3[1] = np.mod(Eul3[1],360)\n",
    "    else:\n",
    "        Eul3[1] = np.mod(Eul3[1]+180,360)\n",
    "    return Eul3\n",
    "    print(Eu1)           \n",
    "    print(Eu2)\n",
    "    print(Eul3)"
   ]
  },
  {
   "cell_type": "code",
   "execution_count": 3,
   "metadata": {
    "collapsed": false
   },
   "outputs": [
    {
     "data": {
      "text/plain": [
       "array([[   3.69735847],\n",
       "       [ 334.55308196],\n",
       "       [  34.59738185]])"
      ]
     },
     "execution_count": 3,
     "metadata": {},
     "output_type": "execute_result"
    }
   ],
   "source": [
    "M1,M2 = np.zeros((3,1)), np.zeros((3,1))\n",
    "M2[0] = 0. #Lat1\n",
    "M2[1] = -8.5 #Long1\n",
    "M2[2] = 25 #deg1, CCW is +\n",
    "M1[0] = 0. #Lat2\n",
    "M1[1] = 120 #Long2\n",
    "M1[2] = -13. #deg2, CCW is +\n",
    "\n",
    "euler_add(M1,M2)"
   ]
  },
  {
   "cell_type": "code",
   "execution_count": 5,
   "metadata": {
    "collapsed": false
   },
   "outputs": [],
   "source": [
    "#Use the following to rotate a set of Euler's by the same \n",
    "euls_bf = pd.read_csv('./neafr_ref.csv')\n",
    "euls_af = []\n",
    "for n in range(len(euls_bf)):\n",
    "    temp_eul = np.array([[euls_bf['lat'][n]],[euls_bf['long'][n]],[euls_bf['ang'][n]]])\n",
    "    appl_eul = np.array([[9.3],[5.7],[-7.8]])\n",
    "    temp = euler_add(temp_eul,appl_eul)\n",
    "    euls_af.append([np.float64(temp[0]),np.float64(temp[1]),np.float64(temp[2])])\n",
    "euls_af\n",
    "eul_final = pd.DataFrame(euls_af)\n",
    "eul_final.to_csv('./neafr_in_safr_ref.txt',header=None,index=None)"
   ]
  },
  {
   "cell_type": "code",
   "execution_count": null,
   "metadata": {
    "collapsed": false
   },
   "outputs": [],
   "source": []
  },
  {
   "cell_type": "code",
   "execution_count": null,
   "metadata": {
    "collapsed": false
   },
   "outputs": [],
   "source": []
  },
  {
   "cell_type": "code",
   "execution_count": null,
   "metadata": {
    "collapsed": true
   },
   "outputs": [],
   "source": []
  }
 ],
 "metadata": {
  "kernelspec": {
   "display_name": "Python 2",
   "language": "python",
   "name": "python2"
  },
  "language_info": {
   "codemirror_mode": {
    "name": "ipython",
    "version": 2
   },
   "file_extension": ".py",
   "mimetype": "text/x-python",
   "name": "python",
   "nbconvert_exporter": "python",
   "pygments_lexer": "ipython2",
   "version": "2.7.6"
  }
 },
 "nbformat": 4,
 "nbformat_minor": 0
}
