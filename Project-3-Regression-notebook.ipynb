{
 "cells": [
  {
   "cell_type": "markdown",
   "metadata": {},
   "source": [
    "<img src=\"http://imgur.com/1ZcRyrc.png\" style=\"float: left; margin: 15px; height: 80px\">\n",
    "\n",
    "# Project 3\n",
    "\n",
    "## San Francisco Data\n",
    "\n",
    "---\n",
    "\n",
    "[San Francisco provides a wealth of data on the city to the public.](https://data.sfgov.org/) \n",
    "\n",
    "Project 3 is all about modelling exploring this data and modeling interesting relationships with regression. \n",
    "\n",
    "\n",
    "---\n",
    "\n",
    "## Notes on the data\n",
    "\n",
    "We have gone through the above website and pulled out a variety of different datasets that we think are particularly interesting. Some of the datasets are from external sources as well, but all are related to San Francisco. A high level overview of data folders is provided after the project requirements section.\n",
    "\n",
    "** Feel free to include any other datasets from the San Francisco data if you think there is relevance or if it could be useful for your analysis.**\n",
    "\n",
    "\n",
    "**The uncompressed data is a large filesize.** Even the compressed data is pretty large. The data is compressed into a .7z format which has one of the smallest filesizes available. You will likely need a 3rd party app to extract it. \n",
    "\n",
    "### Recommended Utilities for .7z\n",
    "- For OSX [Keka](http://www.kekaosx.com/en/) or [The Unarchiver](http://wakaba.c3.cx/s/apps/unarchiver.html). \n",
    "- For Windows [7-zip](http://www.7-zip.org/) is the standard. \n",
    "- For Linux try the `p7zip` utility.  `sudo apt-get install p7zip`.\n",
    "\n",
    "---\n",
    "\n",
    "## Project requirements\n",
    "\n",
    "**You will be performing 4 different sections of analysis on the San Francisco data.**\n",
    "\n",
    "**Models must be regression. This means that your target variable needs to be numeric/continuous**\n",
    "\n",
    "Do not perform classification models – this will be the topic of week 4.\n"
   ]
  },
  {
   "cell_type": "markdown",
   "metadata": {},
   "source": [
    "<img src=\"http://imgur.com/l5NasQj.png\" style=\"float: left; margin: 25px 15px 0px 0px; height: 25px\">\n",
    "\n",
    "### 1. Use the San Francisco assessor dataset and perform EDA\n",
    "\n",
    "---\n",
    "\n",
    "1. Explain what the data is. This may include multiple csv files. Some of this data has hard to understand codes representing the variables. Nearly all data is pulled from https://data.sfgov.org/ so this is a very good resource for determining what the data is.\n",
    "- Clean the data.\n",
    "- Develop and state clearly a hypothesis about the data that you would want to test.(This is totally upto you)\n",
    "- Create some initial visualizations on the portions of the data relevant to your hypothesis."
   ]
  },
  {
   "cell_type": "code",
   "execution_count": 119,
   "metadata": {
    "collapsed": true
   },
   "outputs": [],
   "source": [
    "import numpy as np\n",
    "import pandas as pd\n",
    "import matplotlib.pyplot as plt\n",
    "%matplotlib inline"
   ]
  },
  {
   "cell_type": "code",
   "execution_count": 120,
   "metadata": {
    "collapsed": false,
    "scrolled": true
   },
   "outputs": [],
   "source": [
    "ass15 = pd.read_csv('../../datasets/san_francisco/san_francisco/assessor_office/assessor_data_2014_2015.csv')\n",
    "ass14 = pd.read_csv('../../datasets/san_francisco/san_francisco/assessor_office/assessor_data_2013_2014.csv')\n",
    "# import class codes to sort housing by broad category\n",
    "class_codes = pd.read_csv('../../datasets/san_francisco/san_francisco/assessor_office/assessor_class_use_key.csv')\n",
    "\n",
    "# change columns to lowercase so easier to deal with\n",
    "ass15.columns = map(str.lower, ass15.columns)\n",
    "class_codes.columns = map(str.lower, class_codes.columns)\n"
   ]
  },
  {
   "cell_type": "markdown",
   "metadata": {},
   "source": [
    "Also import class codes dataset."
   ]
  },
  {
   "cell_type": "code",
   "execution_count": 121,
   "metadata": {
    "collapsed": false,
    "scrolled": true
   },
   "outputs": [
    {
     "data": {
      "text/html": [
       "<div>\n",
       "<table border=\"1\" class=\"dataframe\">\n",
       "  <thead>\n",
       "    <tr style=\"text-align: right;\">\n",
       "      <th></th>\n",
       "      <th>use</th>\n",
       "      <th>desc</th>\n",
       "      <th>class</th>\n",
       "      <th>desc.1</th>\n",
       "    </tr>\n",
       "  </thead>\n",
       "  <tbody>\n",
       "    <tr>\n",
       "      <th>0</th>\n",
       "      <td>SRES</td>\n",
       "      <td>Single Family Residential</td>\n",
       "      <td>CO</td>\n",
       "      <td>Coop Units Unsegregated</td>\n",
       "    </tr>\n",
       "    <tr>\n",
       "      <th>1</th>\n",
       "      <td>SRES</td>\n",
       "      <td>Single Family Residential</td>\n",
       "      <td>COS</td>\n",
       "      <td>Coop Units Segregated</td>\n",
       "    </tr>\n",
       "    <tr>\n",
       "      <th>2</th>\n",
       "      <td>SRES</td>\n",
       "      <td>Single Family Residential</td>\n",
       "      <td>D</td>\n",
       "      <td>Dwelling</td>\n",
       "    </tr>\n",
       "    <tr>\n",
       "      <th>3</th>\n",
       "      <td>SRES</td>\n",
       "      <td>Single Family Residential</td>\n",
       "      <td>DBM</td>\n",
       "      <td>Dwelling BMR</td>\n",
       "    </tr>\n",
       "    <tr>\n",
       "      <th>4</th>\n",
       "      <td>SRES</td>\n",
       "      <td>Single Family Residential</td>\n",
       "      <td>LZ</td>\n",
       "      <td>Live/Work Condominium</td>\n",
       "    </tr>\n",
       "  </tbody>\n",
       "</table>\n",
       "</div>"
      ],
      "text/plain": [
       "    use                       desc class                   desc.1\n",
       "0  SRES  Single Family Residential    CO  Coop Units Unsegregated\n",
       "1  SRES  Single Family Residential   COS    Coop Units Segregated\n",
       "2  SRES  Single Family Residential     D                 Dwelling\n",
       "3  SRES  Single Family Residential   DBM             Dwelling BMR\n",
       "4  SRES  Single Family Residential    LZ    Live/Work Condominium"
      ]
     },
     "execution_count": 121,
     "metadata": {},
     "output_type": "execute_result"
    }
   ],
   "source": [
    "class_codes.head()"
   ]
  },
  {
   "cell_type": "code",
   "execution_count": 122,
   "metadata": {
    "collapsed": false
   },
   "outputs": [
    {
     "data": {
      "text/html": [
       "<div>\n",
       "<table border=\"1\" class=\"dataframe\">\n",
       "  <thead>\n",
       "    <tr style=\"text-align: right;\">\n",
       "      <th></th>\n",
       "      <th>proploc</th>\n",
       "      <th>rp1nbrcde</th>\n",
       "      <th>rp1prclid</th>\n",
       "      <th>baselot</th>\n",
       "      <th>baselotsfx</th>\n",
       "      <th>rp1volume</th>\n",
       "      <th>rp1clacde</th>\n",
       "      <th>yrblt</th>\n",
       "      <th>baths</th>\n",
       "      <th>beds</th>\n",
       "      <th>...</th>\n",
       "      <th>rp1stacde</th>\n",
       "      <th>rp1exmvl2</th>\n",
       "      <th>rp1exmvl1</th>\n",
       "      <th>rollyear</th>\n",
       "      <th>recurrsald</th>\n",
       "      <th>rp1fxtval</th>\n",
       "      <th>rp1impval</th>\n",
       "      <th>rp1lndval</th>\n",
       "      <th>rp1pptval</th>\n",
       "      <th>use</th>\n",
       "    </tr>\n",
       "  </thead>\n",
       "  <tbody>\n",
       "    <tr>\n",
       "      <th>0</th>\n",
       "      <td>0000 0000                       0000</td>\n",
       "      <td>08H</td>\n",
       "      <td>0001 001</td>\n",
       "      <td>0</td>\n",
       "      <td>NaN</td>\n",
       "      <td>1</td>\n",
       "      <td>G</td>\n",
       "      <td>1900</td>\n",
       "      <td>0</td>\n",
       "      <td>0</td>\n",
       "      <td>...</td>\n",
       "      <td>N</td>\n",
       "      <td>0</td>\n",
       "      <td>0</td>\n",
       "      <td>14</td>\n",
       "      <td>0</td>\n",
       "      <td>0</td>\n",
       "      <td>0</td>\n",
       "      <td>0</td>\n",
       "      <td>0</td>\n",
       "      <td>COMM</td>\n",
       "    </tr>\n",
       "    <tr>\n",
       "      <th>1</th>\n",
       "      <td>0000 0000                       0000</td>\n",
       "      <td>08H</td>\n",
       "      <td>0002 001</td>\n",
       "      <td>0</td>\n",
       "      <td>NaN</td>\n",
       "      <td>1</td>\n",
       "      <td>G</td>\n",
       "      <td>1900</td>\n",
       "      <td>0</td>\n",
       "      <td>0</td>\n",
       "      <td>...</td>\n",
       "      <td>N</td>\n",
       "      <td>0</td>\n",
       "      <td>0</td>\n",
       "      <td>14</td>\n",
       "      <td>0</td>\n",
       "      <td>0</td>\n",
       "      <td>0</td>\n",
       "      <td>0</td>\n",
       "      <td>0</td>\n",
       "      <td>COMM</td>\n",
       "    </tr>\n",
       "    <tr>\n",
       "      <th>2</th>\n",
       "      <td>0000 0000                       0000</td>\n",
       "      <td>08H</td>\n",
       "      <td>0004 002</td>\n",
       "      <td>0</td>\n",
       "      <td>NaN</td>\n",
       "      <td>1</td>\n",
       "      <td>VCI</td>\n",
       "      <td>0</td>\n",
       "      <td>0</td>\n",
       "      <td>0</td>\n",
       "      <td>...</td>\n",
       "      <td>N</td>\n",
       "      <td>0</td>\n",
       "      <td>0</td>\n",
       "      <td>14</td>\n",
       "      <td>0</td>\n",
       "      <td>0</td>\n",
       "      <td>0</td>\n",
       "      <td>0</td>\n",
       "      <td>0</td>\n",
       "      <td>NaN</td>\n",
       "    </tr>\n",
       "    <tr>\n",
       "      <th>3</th>\n",
       "      <td>0000 0000                       0000</td>\n",
       "      <td>08H</td>\n",
       "      <td>0005 001</td>\n",
       "      <td>0</td>\n",
       "      <td>NaN</td>\n",
       "      <td>1</td>\n",
       "      <td>G</td>\n",
       "      <td>1900</td>\n",
       "      <td>0</td>\n",
       "      <td>0</td>\n",
       "      <td>...</td>\n",
       "      <td>N</td>\n",
       "      <td>0</td>\n",
       "      <td>0</td>\n",
       "      <td>14</td>\n",
       "      <td>0</td>\n",
       "      <td>0</td>\n",
       "      <td>0</td>\n",
       "      <td>0</td>\n",
       "      <td>0</td>\n",
       "      <td>COMM</td>\n",
       "    </tr>\n",
       "    <tr>\n",
       "      <th>4</th>\n",
       "      <td>0000 0000                       0000</td>\n",
       "      <td>08H</td>\n",
       "      <td>0006 001</td>\n",
       "      <td>0</td>\n",
       "      <td>NaN</td>\n",
       "      <td>1</td>\n",
       "      <td>G</td>\n",
       "      <td>1900</td>\n",
       "      <td>0</td>\n",
       "      <td>0</td>\n",
       "      <td>...</td>\n",
       "      <td>N</td>\n",
       "      <td>0</td>\n",
       "      <td>0</td>\n",
       "      <td>14</td>\n",
       "      <td>0</td>\n",
       "      <td>0</td>\n",
       "      <td>0</td>\n",
       "      <td>0</td>\n",
       "      <td>0</td>\n",
       "      <td>COMM</td>\n",
       "    </tr>\n",
       "  </tbody>\n",
       "</table>\n",
       "<p>5 rows × 42 columns</p>\n",
       "</div>"
      ],
      "text/plain": [
       "                                proploc rp1nbrcde rp1prclid  baselot  \\\n",
       "0  0000 0000                       0000       08H  0001 001        0   \n",
       "1  0000 0000                       0000       08H  0002 001        0   \n",
       "2  0000 0000                       0000       08H  0004 002        0   \n",
       "3  0000 0000                       0000       08H  0005 001        0   \n",
       "4  0000 0000                       0000       08H  0006 001        0   \n",
       "\n",
       "  baselotsfx  rp1volume rp1clacde  yrblt  baths  beds  ...   rp1stacde  \\\n",
       "0        NaN          1         G   1900      0     0  ...           N   \n",
       "1        NaN          1         G   1900      0     0  ...           N   \n",
       "2        NaN          1       VCI      0      0     0  ...           N   \n",
       "3        NaN          1         G   1900      0     0  ...           N   \n",
       "4        NaN          1         G   1900      0     0  ...           N   \n",
       "\n",
       "   rp1exmvl2  rp1exmvl1  rollyear recurrsald rp1fxtval  rp1impval rp1lndval  \\\n",
       "0          0          0        14          0         0          0         0   \n",
       "1          0          0        14          0         0          0         0   \n",
       "2          0          0        14          0         0          0         0   \n",
       "3          0          0        14          0         0          0         0   \n",
       "4          0          0        14          0         0          0         0   \n",
       "\n",
       "  rp1pptval   use  \n",
       "0         0  COMM  \n",
       "1         0  COMM  \n",
       "2         0   NaN  \n",
       "3         0  COMM  \n",
       "4         0  COMM  \n",
       "\n",
       "[5 rows x 42 columns]"
      ]
     },
     "execution_count": 122,
     "metadata": {},
     "output_type": "execute_result"
    }
   ],
   "source": [
    "# clean class code df\n",
    "class_codes = class_codes.dropna()\n",
    "class_codes = class_codes[class_codes.use != 'USE']\n",
    "# create dictionary of class:use\n",
    "class_dic = {key:value for key, value in zip(class_codes['class'].values, class_codes['use'].values)}\n",
    "# make new column in df with broad 'use' category added\n",
    "ass15['use'] = ass15.rp1clacde.apply(lambda x: class_dic[x] if x in class_dic else np.nan)\n",
    "ass15.head()"
   ]
  },
  {
   "cell_type": "code",
   "execution_count": 123,
   "metadata": {
    "collapsed": false,
    "scrolled": true
   },
   "outputs": [],
   "source": [
    "sing_fam = ass15[ass15.use == 'SRES']\n",
    "# drop houses with over 30000 sqft\n",
    "sing_fam = sing_fam[sing_fam.sqft < 30000]\n",
    "# drop houses with over 50 baths\n",
    "sing_fam = sing_fam[sing_fam.baths < 30]\n",
    "# drop houses with over 50 beds\n",
    "sing_fam = sing_fam[sing_fam.beds < 50]\n",
    "# drop houses with lot area over\n",
    "sing_fam = sing_fam[sing_fam.larea < 50000]\n",
    "# drop houses with over 50\n",
    "sing_fam = sing_fam[sing_fam.rooms < 50]\n",
    "sing_fam = sing_fam[sing_fam.rooms > 0]\n",
    "# drop houses with over 50\n",
    "sing_fam = sing_fam[sing_fam.rp1lndval > 100000]\n",
    "# sing_fam.rp1lndval.value_counts()[:15]"
   ]
  },
  {
   "cell_type": "code",
   "execution_count": 124,
   "metadata": {
    "collapsed": false,
    "scrolled": true
   },
   "outputs": [
    {
     "data": {
      "text/plain": [
       "(63943, 42)"
      ]
     },
     "execution_count": 124,
     "metadata": {},
     "output_type": "execute_result"
    }
   ],
   "source": [
    "# drop zeros in all \n",
    "sing_fam = sing_fam[sing_fam.rp1lndval != 0]\n",
    "sing_fam = sing_fam[sing_fam.larea > 0]\n",
    "sing_fam.shape"
   ]
  },
  {
   "cell_type": "markdown",
   "metadata": {},
   "source": [
    "Make some plots of the distributions..."
   ]
  },
  {
   "cell_type": "code",
   "execution_count": 125,
   "metadata": {
    "collapsed": false
   },
   "outputs": [
    {
     "data": {
      "image/png": "[encoded data removed]",
      "text/plain": [
       "<matplotlib.figure.Figure at 0x12217cf10>"
      ]
     },
     "metadata": {},
     "output_type": "display_data"
    }
   ],
   "source": [
    "plt.scatter(sing_fam.sqft.values, sing_fam.rp1lndval.values);"
   ]
  },
  {
   "cell_type": "code",
   "execution_count": 126,
   "metadata": {
    "collapsed": false,
    "scrolled": true
   },
   "outputs": [
    {
     "data": {
      "image/png": "[encoded data removed]",
      "text/plain": [
       "<matplotlib.figure.Figure at 0x117289950>"
      ]
     },
     "metadata": {},
     "output_type": "display_data"
    }
   ],
   "source": [
    "plt.scatter(sing_fam.baths.values, sing_fam.rp1lndval.values);"
   ]
  },
  {
   "cell_type": "code",
   "execution_count": 127,
   "metadata": {
    "collapsed": false
   },
   "outputs": [
    {
     "data": {
      "image/png": "[encoded data removed]",
      "text/plain": [
       "<matplotlib.figure.Figure at 0x118f44e50>"
      ]
     },
     "metadata": {},
     "output_type": "display_data"
    }
   ],
   "source": [
    "plt.scatter(sing_fam.rooms.values, sing_fam.rp1lndval.values);"
   ]
  },
  {
   "cell_type": "code",
   "execution_count": 128,
   "metadata": {
    "collapsed": false,
    "scrolled": true
   },
   "outputs": [
    {
     "data": {
      "image/png": "[encoded data removed]",
      "text/plain": [
       "<matplotlib.figure.Figure at 0x117291810>"
      ]
     },
     "metadata": {},
     "output_type": "display_data"
    }
   ],
   "source": [
    "plt.scatter(sing_fam.larea.values, sing_fam.rp1lndval.values);"
   ]
  },
  {
   "cell_type": "markdown",
   "metadata": {},
   "source": [
    "After looking through the data I decided to use a handful of feature to try to predict the value of land in San Francisco. These features include  square foot of property, # of bathrooms, # of bedrooms, # of rooms, and square footage of lot area.\n",
    "\n",
    "Above, a new dataframe was created with just the single-family homes category, which was then cleaned of outlier valus and zeros of the taget features."
   ]
  },
  {
   "cell_type": "markdown",
   "metadata": {},
   "source": [
    "<img src=\"http://imgur.com/l5NasQj.png\" style=\"float: left; margin: 25px 15px 0px 0px; height: 25px\">\n",
    "\n",
    "### 2. Construct and evaluate a linear regression model on the data\n",
    "\n",
    "---\n",
    "\n",
    "1. State the variables that are predictors in your linear regression and the target variable.\n",
    "- Investigate and remove any outliers or other problems in your data. _This is a subjective process._\n",
    "- Construct a linear regression model.\n",
    "- Evaluate the model. How does the $R^2$ of the overall model compare to cross-validated $R^2$. What do the differences in $R^2$ mean?\n",
    "  - Use test / train split\n",
    "  - Use K-Folds\n",
    "  - Compare and explain your results with both\n",
    "- Visualize the evaluation metrics of your analysis in clear charts.\n",
    "- Summarize your results in the context of your hypothesis. Frame this as if you are presenting to non-technical readers.\n"
   ]
  },
  {
   "cell_type": "code",
   "execution_count": 129,
   "metadata": {
    "collapsed": false
   },
   "outputs": [],
   "source": [
    "import numpy as np\n",
    "from sklearn.model_selection import cross_val_score, train_test_split\n",
    "from sklearn.linear_model import LinearRegression, Ridge, Lasso, ElasticNet, RidgeCV, LassoCV, ElasticNetCV\n",
    "from sklearn import metrics\n",
    "from sklearn.preprocessing import StandardScaler, MinMaxScaler\n",
    "import seaborn as sns"
   ]
  },
  {
   "cell_type": "code",
   "execution_count": 130,
   "metadata": {
    "collapsed": false
   },
   "outputs": [
    {
     "name": "stdout",
     "output_type": "stream",
     "text": [
      "[ 120037.91869129   16467.81720266   98973.16080342   91174.89897718]\n",
      "0.199063094991\n",
      "[-0.10623867 -0.53505293 -0.7574329  -1.07369089 -0.01940066  0.11569346\n",
      " -0.84194261 -3.25506622 -0.19328956 -0.87912591]\n",
      "-0.754554687047\n"
     ]
    }
   ],
   "source": [
    "X = sing_fam[['baths', 'beds', 'rooms', 'larea']]\n",
    "y = sing_fam.rp1lndval.values\n",
    "\n",
    "ss = StandardScaler()\n",
    "Xn = ss.fit_transform(X)\n",
    "\n",
    "lr = LinearRegression()\n",
    "model = lr.fit(Xn, y)\n",
    "predictions = model.predict(Xn)\n",
    "cv_score = cross_val_score(model, Xn, y, cv=10)\n",
    "print model.coef_\n",
    "print model.score(Xn, y)\n",
    "print cv_score\n",
    "print np.mean(cv_score)"
   ]
  },
  {
   "cell_type": "code",
   "execution_count": 131,
   "metadata": {
    "collapsed": false
   },
   "outputs": [
    {
     "data": {
      "image/png": "[encoded data removed]",
      "text/plain": [
       "<matplotlib.figure.Figure at 0x11729c4d0>"
      ]
     },
     "metadata": {},
     "output_type": "display_data"
    }
   ],
   "source": [
    "fig = plt.figure(figsize=(10,6))\n",
    "plt.scatter(predictions, y, s=100, c='b', marker='+');\n"
   ]
  },
  {
   "cell_type": "code",
   "execution_count": 132,
   "metadata": {
    "collapsed": false,
    "scrolled": true
   },
   "outputs": [
    {
     "name": "stdout",
     "output_type": "stream",
     "text": [
      "225.534775441\n",
      "170735.264747\n"
     ]
    }
   ],
   "source": [
    "X_train, X_test, y_train, y_test = train_test_split(X, y, test_size=0.3, random_state=1)\n",
    "cross_val_score(lr, Xn, y, cv=5)\n",
    "\n",
    "ridge_alphas = np.logspace(0, 7, 100)\n",
    "\n",
    "optimal_lasso = LassoCV(n_alphas=500, cv=10)\n",
    "optimal_lasso.fit(Xn, y)\n",
    "\n",
    "optimal_ridge = RidgeCV(alphas=ridge_alphas, cv=10)\n",
    "optimal_ridge.fit(Xn, y)\n",
    "\n",
    "print optimal_lasso.alpha_\n",
    "print optimal_ridge.alpha_"
   ]
  },
  {
   "cell_type": "code",
   "execution_count": 133,
   "metadata": {
    "collapsed": false
   },
   "outputs": [
    {
     "name": "stdout",
     "output_type": "stream",
     "text": [
      "Ridge scores and mean:\n",
      "[-0.21136841 -0.07535005 -0.28663986 -0.35839135  0.10504352  0.17469563\n",
      " -0.52102881 -2.29739906  0.06428703 -0.29495873]\n",
      "-0.370111010322\n",
      "Lasso scores and mean:\n",
      "[-0.10679994 -0.53358477 -0.75582232 -1.0714849  -0.01883324  0.11615672\n",
      " -0.84059608 -3.25165145 -0.1924038  -0.87705502]\n",
      "-0.75320747991\n"
     ]
    }
   ],
   "source": [
    "ridge = Ridge(alpha=optimal_ridge.alpha_)\n",
    "lasso = Lasso(alpha=optimal_lasso.alpha_)\n",
    "\n",
    "ridge_scores = cross_val_score(ridge, Xn, y, cv=10)\n",
    "lasso_scores = cross_val_score(lasso, Xn, y, cv=10)\n",
    "\n",
    "print 'Ridge scores and mean:'\n",
    "print ridge_scores\n",
    "print np.mean(ridge_scores)\n",
    "print 'Lasso scores and mean:'\n",
    "print lasso_scores\n",
    "print np.mean(lasso_scores)"
   ]
  },
  {
   "cell_type": "code",
   "execution_count": 134,
   "metadata": {
    "collapsed": false,
    "scrolled": true
   },
   "outputs": [
    {
     "data": {
      "text/html": [
       "<div>\n",
       "<table border=\"1\" class=\"dataframe\">\n",
       "  <thead>\n",
       "    <tr style=\"text-align: right;\">\n",
       "      <th></th>\n",
       "      <th>abs_coef</th>\n",
       "      <th>coef</th>\n",
       "      <th>variable</th>\n",
       "    </tr>\n",
       "  </thead>\n",
       "  <tbody>\n",
       "    <tr>\n",
       "      <th>0</th>\n",
       "      <td>119999.912467</td>\n",
       "      <td>119999.912467</td>\n",
       "      <td>baths</td>\n",
       "    </tr>\n",
       "    <tr>\n",
       "      <th>2</th>\n",
       "      <td>98906.149183</td>\n",
       "      <td>98906.149183</td>\n",
       "      <td>rooms</td>\n",
       "    </tr>\n",
       "    <tr>\n",
       "      <th>3</th>\n",
       "      <td>90990.013256</td>\n",
       "      <td>90990.013256</td>\n",
       "      <td>larea</td>\n",
       "    </tr>\n",
       "    <tr>\n",
       "      <th>1</th>\n",
       "      <td>16311.055839</td>\n",
       "      <td>16311.055839</td>\n",
       "      <td>beds</td>\n",
       "    </tr>\n",
       "  </tbody>\n",
       "</table>\n",
       "</div>"
      ],
      "text/plain": [
       "        abs_coef           coef variable\n",
       "0  119999.912467  119999.912467    baths\n",
       "2   98906.149183   98906.149183    rooms\n",
       "3   90990.013256   90990.013256    larea\n",
       "1   16311.055839   16311.055839     beds"
      ]
     },
     "execution_count": 134,
     "metadata": {},
     "output_type": "execute_result"
    }
   ],
   "source": [
    "lasso.fit(Xn, y)\n",
    "lasso_coefs = pd.DataFrame({'variable':X.columns,\n",
    "                            'coef':lasso.coef_,\n",
    "                            'abs_coef':np.abs(lasso.coef_)})\n",
    "\n",
    "lasso_coefs.sort_values('abs_coef', inplace=True, ascending=False)\n",
    "\n",
    "lasso_coefs"
   ]
  },
  {
   "cell_type": "code",
   "execution_count": 135,
   "metadata": {
    "collapsed": false
   },
   "outputs": [
    {
     "data": {
      "image/png": "[encoded data removed]",
      "text/plain": [
       "<matplotlib.figure.Figure at 0x1225e2e50>"
      ]
     },
     "metadata": {},
     "output_type": "display_data"
    }
   ],
   "source": [
    "ridge.fit(Xn, y)\n",
    "lasso.fit(Xn, y)\n",
    "\n",
    "ridge_resid = y - ridge.predict(Xn)\n",
    "lasso_resid = y - lasso.predict(Xn)\n",
    "\n",
    "fig, axarr = plt.subplots(2, 1, figsize=(6, 10))\n",
    "\n",
    "sns.distplot(ridge_resid, bins=50, hist=True, kde=False, \n",
    "             color='steelblue', ax=axarr[0], label='Ridge residuals')\n",
    "sns.distplot(lasso_resid, bins=50, hist=True, kde=False, \n",
    "             color='darkred', ax=axarr[1], label='Lasso residuals')\n",
    "axarr[0].set_xlim(-0.5e7,0.5e7)\n",
    "axarr[1].set_xlim(-0.5e7,0.5e7)\n",
    "plt.show()"
   ]
  },
  {
   "cell_type": "markdown",
   "metadata": {},
   "source": [
    "It is difficult to draw Linear Regression predictions from this dataset. There are many classes that could Logistically Regressed, but it appears difficult to predict home prices from the square foot of property, # of bathrooms, # of bedrooms, # of rooms, and square footage of lot area.\n",
    "\n",
    "The dataset was normalized, but that did not help. Using ridge and lasso regression with cross validation yielded negative scores for the (Pearson's) R-squared value. The vanilla linear regression model yielded a R-squared score of ~0.2, which is not good to begin with.\n",
    "\n",
    "It appears that with vanilla linear regression, a least-squares line can (very) poorly predict data. When regularization and cross validation are used, score are negative because the model is arbitrarily worse.\n",
    "\n",
    "All of this poor modeling is likely due to the features being poor indications of house price. San Francisco is a diverse housing market with many different factors going into the evaluation of house price. A 1-bedroom in Pacific Heights could cost ten times more than one in the Tenderloin even with the same feature values. This is likely limiting the predictive use of these features."
   ]
  },
  {
   "cell_type": "markdown",
   "metadata": {},
   "source": [
    "<img src=\"http://imgur.com/xDpSobf.png\" style=\"float: left; margin: 25px 15px 0px 0px; height: 25px\">\n",
    "\n",
    "### 2.2 Explain $R^2$ vs. mean squared error (MSE)\n",
    "\n",
    "---\n",
    "\n",
    "1. If you have negative $R^2$ values in cross-validation, what does this mean? \n",
    "2. Why can $R^2$ only be negative when the model is tested on new data?"
   ]
  },
  {
   "cell_type": "markdown",
   "metadata": {},
   "source": [
    "There are many negative $R^2$ values after cross validation. Cross validation tests a model by training and testing on different portions of a dataset. Cross validation generates its $R^2$ values from a $(1 - V)$ equation where $V$, representing the sum of predicted errors divided by the sum of squares (using the mean), can be greater than 1 if the predicted values are larger than then the mean. Meaning (pun intended) that when scores are negative for a cross-validation model, the model is worse than predicting the mean for every unknown.\n",
    "\n",
    "The mean squared error (MSE) for a linear regression fit is simply the sum of all $(y_i - \\hat{y})^2$, so it is impossible for it to be negative even with terrible estimtions."
   ]
  },
  {
   "cell_type": "markdown",
   "metadata": {},
   "source": [
    "<img src=\"http://imgur.com/l5NasQj.png\" style=\"float: left; margin: 25px 15px 0px 0px; height: 25px\">\n",
    "\n",
    "### 3. Combine Crime and Fire incidents datasets from the  San Francisco data. Build a Linear regression model to predict number of fire incidents. What are the most significant predictors?\n",
    "\n",
    "### Evaluate the model with regularized regression.\n",
    "\n",
    "---\n",
    "\n",
    "**I recommend having many predictors to see benefits from regularization methods, but it's up to you.**\n",
    "\n",
    "\n",
    "- Like in part 1, you should state a hypothesis and perform data cleaning and EDA _only_ on the relevant portions of your data. Don't waste time!\n",
    "- Construct and evaluate different models with cross-validated $R^2$. Compare LinearRegression, Lasso, Ridge, and ElasticNet. \n",
    "- Report on which model is best after performing regularization, and why that might be the case (hint: does your data have multicollinearity? Irrelevant variables? Both?)\n",
    "- Plot visuals that compare the performance of the four models.\n"
   ]
  },
  {
   "cell_type": "code",
   "execution_count": 136,
   "metadata": {
    "collapsed": false
   },
   "outputs": [],
   "source": [
    "fires = pd.read_csv('../../datasets/san_francisco/san_francisco/fire_data/fire_incidents.csv')\n",
    "crimes = pd.read_csv('../../datasets/san_francisco/san_francisco/sf_crime/sfpd_incidents_from2003.csv')\n",
    "# import class codes to sort housing by broad category\n",
    "# class_codes = pd.read_csv('../../datasets/san_francisco/san_francisco/assessor_office/assessor_class_use_key.csv')\n"
   ]
  },
  {
   "cell_type": "markdown",
   "metadata": {},
   "source": [
    "Predicting the number of fire incidents for a give day of the year, month, or day would help the SF fire deptarment have enough people ready to answer every call. Althought many of the features available are the result of fir incidents...so it is hard to imagine them being able to predict the number of fire incidents."
   ]
  },
  {
   "cell_type": "markdown",
   "metadata": {},
   "source": [
    "Importing the crime datset and using (basically) the only valueable feature from it by creating a count of incidents per day using .groupy()."
   ]
  },
  {
   "cell_type": "code",
   "execution_count": 138,
   "metadata": {
    "collapsed": false,
    "scrolled": true
   },
   "outputs": [
    {
     "data": {
      "text/html": [
       "<div>\n",
       "<table border=\"1\" class=\"dataframe\">\n",
       "  <thead>\n",
       "    <tr style=\"text-align: right;\">\n",
       "      <th></th>\n",
       "      <th>IncidntNum</th>\n",
       "      <th>Category</th>\n",
       "      <th>Descript</th>\n",
       "      <th>DayOfWeek</th>\n",
       "      <th>Date</th>\n",
       "      <th>Time</th>\n",
       "      <th>PdDistrict</th>\n",
       "      <th>Resolution</th>\n",
       "      <th>Address</th>\n",
       "      <th>X</th>\n",
       "      <th>Y</th>\n",
       "      <th>Location</th>\n",
       "      <th>PdId</th>\n",
       "    </tr>\n",
       "  </thead>\n",
       "  <tbody>\n",
       "    <tr>\n",
       "      <th>0</th>\n",
       "      <td>110914565</td>\n",
       "      <td>WARRANTS</td>\n",
       "      <td>WARRANT ARREST</td>\n",
       "      <td>Friday</td>\n",
       "      <td>05/29/2015</td>\n",
       "      <td>16:42</td>\n",
       "      <td>SOUTHERN</td>\n",
       "      <td>ARREST, BOOKED</td>\n",
       "      <td>BRYANT ST / 8TH ST</td>\n",
       "      <td>-122.406971</td>\n",
       "      <td>37.772527</td>\n",
       "      <td>(37.7725273607571, -122.406970988225)</td>\n",
       "      <td>11091456563010</td>\n",
       "    </tr>\n",
       "    <tr>\n",
       "      <th>1</th>\n",
       "      <td>11351210</td>\n",
       "      <td>MISSING PERSON</td>\n",
       "      <td>FOUND PERSON</td>\n",
       "      <td>Tuesday</td>\n",
       "      <td>06/14/2016</td>\n",
       "      <td>08:55</td>\n",
       "      <td>BAYVIEW</td>\n",
       "      <td>NONE</td>\n",
       "      <td>1200 Block of 3RD ST</td>\n",
       "      <td>-122.389518</td>\n",
       "      <td>37.772468</td>\n",
       "      <td>(37.7724682400061, -122.389517648036)</td>\n",
       "      <td>1135121075000</td>\n",
       "    </tr>\n",
       "  </tbody>\n",
       "</table>\n",
       "</div>"
      ],
      "text/plain": [
       "   IncidntNum        Category        Descript DayOfWeek        Date   Time  \\\n",
       "0   110914565        WARRANTS  WARRANT ARREST    Friday  05/29/2015  16:42   \n",
       "1    11351210  MISSING PERSON    FOUND PERSON   Tuesday  06/14/2016  08:55   \n",
       "\n",
       "  PdDistrict      Resolution               Address           X          Y  \\\n",
       "0   SOUTHERN  ARREST, BOOKED    BRYANT ST / 8TH ST -122.406971  37.772527   \n",
       "1    BAYVIEW            NONE  1200 Block of 3RD ST -122.389518  37.772468   \n",
       "\n",
       "                                Location            PdId  \n",
       "0  (37.7725273607571, -122.406970988225)  11091456563010  \n",
       "1  (37.7724682400061, -122.389517648036)   1135121075000  "
      ]
     },
     "execution_count": 138,
     "metadata": {},
     "output_type": "execute_result"
    }
   ],
   "source": [
    "crimes.head(2)"
   ]
  },
  {
   "cell_type": "code",
   "execution_count": 139,
   "metadata": {
    "collapsed": false
   },
   "outputs": [],
   "source": [
    "crimes_date_cnt = crimes.groupby('Date')[['IncidntNum']].count()\n",
    "crimes_date_cnt.reset_index(inplace=True)\n",
    "crimes_date_cnt.rename(columns={\"Date\": \"incident_date\"}, inplace=True)"
   ]
  },
  {
   "cell_type": "markdown",
   "metadata": {},
   "source": [
    "Back to the fire incident dataset - clean dataframe and then group two new dataframes, one with incidents per day and another with the sum of features per every day. Remerge the dataframes on the incident dates."
   ]
  },
  {
   "cell_type": "code",
   "execution_count": 140,
   "metadata": {
    "collapsed": false,
    "scrolled": true
   },
   "outputs": [
    {
     "data": {
      "text/html": [
       "<div>\n",
       "<table border=\"1\" class=\"dataframe\">\n",
       "  <thead>\n",
       "    <tr style=\"text-align: right;\">\n",
       "      <th></th>\n",
       "      <th>0</th>\n",
       "      <th>1</th>\n",
       "    </tr>\n",
       "  </thead>\n",
       "  <tbody>\n",
       "    <tr>\n",
       "      <th>incident_number</th>\n",
       "      <td>9030109</td>\n",
       "      <td>13067402</td>\n",
       "    </tr>\n",
       "    <tr>\n",
       "      <th>exposure_number</th>\n",
       "      <td>0</td>\n",
       "      <td>0</td>\n",
       "    </tr>\n",
       "    <tr>\n",
       "      <th>address</th>\n",
       "      <td>310 Colon Av.</td>\n",
       "      <td>20 Lansdale Av</td>\n",
       "    </tr>\n",
       "    <tr>\n",
       "      <th>incident_date</th>\n",
       "      <td>04/12/2009</td>\n",
       "      <td>07/18/2013</td>\n",
       "    </tr>\n",
       "    <tr>\n",
       "      <th>call_number</th>\n",
       "      <td>91020273</td>\n",
       "      <td>131990117</td>\n",
       "    </tr>\n",
       "    <tr>\n",
       "      <th>alarm_dttm</th>\n",
       "      <td>04/12/2009 06:09:13 PM</td>\n",
       "      <td>07/18/2013 10:32:03 AM</td>\n",
       "    </tr>\n",
       "    <tr>\n",
       "      <th>arrival_dttm</th>\n",
       "      <td>04/12/2009 06:13:45 PM</td>\n",
       "      <td>07/18/2013 10:37:15 AM</td>\n",
       "    </tr>\n",
       "    <tr>\n",
       "      <th>close_dttm</th>\n",
       "      <td>04/12/2009 07:23:13 PM</td>\n",
       "      <td>07/18/2013 10:39:55 AM</td>\n",
       "    </tr>\n",
       "    <tr>\n",
       "      <th>city</th>\n",
       "      <td>SF</td>\n",
       "      <td>SF</td>\n",
       "    </tr>\n",
       "    <tr>\n",
       "      <th>zipcode</th>\n",
       "      <td>NaN</td>\n",
       "      <td>NaN</td>\n",
       "    </tr>\n",
       "    <tr>\n",
       "      <th>battalion</th>\n",
       "      <td>B09</td>\n",
       "      <td>B09</td>\n",
       "    </tr>\n",
       "    <tr>\n",
       "      <th>station_area</th>\n",
       "      <td>15</td>\n",
       "      <td>39</td>\n",
       "    </tr>\n",
       "    <tr>\n",
       "      <th>box</th>\n",
       "      <td>NaN</td>\n",
       "      <td>8571</td>\n",
       "    </tr>\n",
       "    <tr>\n",
       "      <th>suppression_units</th>\n",
       "      <td>1</td>\n",
       "      <td>3</td>\n",
       "    </tr>\n",
       "    <tr>\n",
       "      <th>suppression_personnel</th>\n",
       "      <td>5</td>\n",
       "      <td>11</td>\n",
       "    </tr>\n",
       "    <tr>\n",
       "      <th>ems_units</th>\n",
       "      <td>0</td>\n",
       "      <td>0</td>\n",
       "    </tr>\n",
       "    <tr>\n",
       "      <th>ems_personnel</th>\n",
       "      <td>0</td>\n",
       "      <td>0</td>\n",
       "    </tr>\n",
       "    <tr>\n",
       "      <th>other_units</th>\n",
       "      <td>0</td>\n",
       "      <td>0</td>\n",
       "    </tr>\n",
       "    <tr>\n",
       "      <th>other_personnel</th>\n",
       "      <td>0</td>\n",
       "      <td>0</td>\n",
       "    </tr>\n",
       "    <tr>\n",
       "      <th>first_unit_on_scene</th>\n",
       "      <td>T15</td>\n",
       "      <td>E39</td>\n",
       "    </tr>\n",
       "    <tr>\n",
       "      <th>estimated_property_loss</th>\n",
       "      <td>NaN</td>\n",
       "      <td>NaN</td>\n",
       "    </tr>\n",
       "    <tr>\n",
       "      <th>estimated_contents_loss</th>\n",
       "      <td>NaN</td>\n",
       "      <td>NaN</td>\n",
       "    </tr>\n",
       "    <tr>\n",
       "      <th>fire_fatalities</th>\n",
       "      <td>0</td>\n",
       "      <td>0</td>\n",
       "    </tr>\n",
       "    <tr>\n",
       "      <th>fire_injuries</th>\n",
       "      <td>0</td>\n",
       "      <td>0</td>\n",
       "    </tr>\n",
       "    <tr>\n",
       "      <th>civilian_fatalities</th>\n",
       "      <td>0</td>\n",
       "      <td>0</td>\n",
       "    </tr>\n",
       "    <tr>\n",
       "      <th>civilian_injuries</th>\n",
       "      <td>0</td>\n",
       "      <td>0</td>\n",
       "    </tr>\n",
       "    <tr>\n",
       "      <th>number_of_alarms</th>\n",
       "      <td>NaN</td>\n",
       "      <td>NaN</td>\n",
       "    </tr>\n",
       "    <tr>\n",
       "      <th>primary_situation</th>\n",
       "      <td>551 - assist pd or other govern. agency</td>\n",
       "      <td>745 - alarm system sounded/no fire-accidental</td>\n",
       "    </tr>\n",
       "    <tr>\n",
       "      <th>mutual_aid</th>\n",
       "      <td>none</td>\n",
       "      <td>none</td>\n",
       "    </tr>\n",
       "    <tr>\n",
       "      <th>action_taken_primary</th>\n",
       "      <td>52 - forcible entry</td>\n",
       "      <td>86 - investigate</td>\n",
       "    </tr>\n",
       "    <tr>\n",
       "      <th>...</th>\n",
       "      <td>...</td>\n",
       "      <td>...</td>\n",
       "    </tr>\n",
       "    <tr>\n",
       "      <th>property_use</th>\n",
       "      <td>000 - property use, other</td>\n",
       "      <td>429 - multifamily dwellings</td>\n",
       "    </tr>\n",
       "    <tr>\n",
       "      <th>area_of_fire_origin</th>\n",
       "      <td>NaN</td>\n",
       "      <td>NaN</td>\n",
       "    </tr>\n",
       "    <tr>\n",
       "      <th>ignition_cause</th>\n",
       "      <td>NaN</td>\n",
       "      <td>NaN</td>\n",
       "    </tr>\n",
       "    <tr>\n",
       "      <th>ignition_factor_primary</th>\n",
       "      <td>NaN</td>\n",
       "      <td>NaN</td>\n",
       "    </tr>\n",
       "    <tr>\n",
       "      <th>ignition_factor_secondary</th>\n",
       "      <td>NaN</td>\n",
       "      <td>NaN</td>\n",
       "    </tr>\n",
       "    <tr>\n",
       "      <th>heat_source</th>\n",
       "      <td>NaN</td>\n",
       "      <td>NaN</td>\n",
       "    </tr>\n",
       "    <tr>\n",
       "      <th>item_first_ignited</th>\n",
       "      <td>NaN</td>\n",
       "      <td>NaN</td>\n",
       "    </tr>\n",
       "    <tr>\n",
       "      <th>human_factors_associated_with_ignition</th>\n",
       "      <td>NaN</td>\n",
       "      <td>NaN</td>\n",
       "    </tr>\n",
       "    <tr>\n",
       "      <th>structure_type</th>\n",
       "      <td>NaN</td>\n",
       "      <td>NaN</td>\n",
       "    </tr>\n",
       "    <tr>\n",
       "      <th>structure_status</th>\n",
       "      <td>NaN</td>\n",
       "      <td>NaN</td>\n",
       "    </tr>\n",
       "    <tr>\n",
       "      <th>floor_of_fire_origin</th>\n",
       "      <td>NaN</td>\n",
       "      <td>NaN</td>\n",
       "    </tr>\n",
       "    <tr>\n",
       "      <th>fire_spread</th>\n",
       "      <td>NaN</td>\n",
       "      <td>NaN</td>\n",
       "    </tr>\n",
       "    <tr>\n",
       "      <th>no_flame_spead</th>\n",
       "      <td>NaN</td>\n",
       "      <td>NaN</td>\n",
       "    </tr>\n",
       "    <tr>\n",
       "      <th>number_of_floors_with_minimum_damage</th>\n",
       "      <td>NaN</td>\n",
       "      <td>NaN</td>\n",
       "    </tr>\n",
       "    <tr>\n",
       "      <th>number_of_floors_with_significant_damage</th>\n",
       "      <td>NaN</td>\n",
       "      <td>NaN</td>\n",
       "    </tr>\n",
       "    <tr>\n",
       "      <th>number_of_floors_with_heavy_damage</th>\n",
       "      <td>NaN</td>\n",
       "      <td>NaN</td>\n",
       "    </tr>\n",
       "    <tr>\n",
       "      <th>number_of_floors_with_extreme_damage</th>\n",
       "      <td>NaN</td>\n",
       "      <td>NaN</td>\n",
       "    </tr>\n",
       "    <tr>\n",
       "      <th>detectors_present</th>\n",
       "      <td>NaN</td>\n",
       "      <td>NaN</td>\n",
       "    </tr>\n",
       "    <tr>\n",
       "      <th>detector_type</th>\n",
       "      <td>NaN</td>\n",
       "      <td>NaN</td>\n",
       "    </tr>\n",
       "    <tr>\n",
       "      <th>detector_operation</th>\n",
       "      <td>NaN</td>\n",
       "      <td>NaN</td>\n",
       "    </tr>\n",
       "    <tr>\n",
       "      <th>detector_effectiveness</th>\n",
       "      <td>NaN</td>\n",
       "      <td>NaN</td>\n",
       "    </tr>\n",
       "    <tr>\n",
       "      <th>detector_failure_reason</th>\n",
       "      <td>NaN</td>\n",
       "      <td>NaN</td>\n",
       "    </tr>\n",
       "    <tr>\n",
       "      <th>automatic_extinguishing_system_present</th>\n",
       "      <td>NaN</td>\n",
       "      <td>NaN</td>\n",
       "    </tr>\n",
       "    <tr>\n",
       "      <th>automatic_extinguishing_sytem_type</th>\n",
       "      <td>NaN</td>\n",
       "      <td>NaN</td>\n",
       "    </tr>\n",
       "    <tr>\n",
       "      <th>automatic_extinguishing_sytem_perfomance</th>\n",
       "      <td>NaN</td>\n",
       "      <td>NaN</td>\n",
       "    </tr>\n",
       "    <tr>\n",
       "      <th>automatic_extinguishing_sytem_failure_reason</th>\n",
       "      <td>NaN</td>\n",
       "      <td>NaN</td>\n",
       "    </tr>\n",
       "    <tr>\n",
       "      <th>number_of_sprinkler_heads_operating</th>\n",
       "      <td>NaN</td>\n",
       "      <td>NaN</td>\n",
       "    </tr>\n",
       "    <tr>\n",
       "      <th>supervisor_district</th>\n",
       "      <td>NaN</td>\n",
       "      <td>NaN</td>\n",
       "    </tr>\n",
       "    <tr>\n",
       "      <th>neighborhood__district</th>\n",
       "      <td>NaN</td>\n",
       "      <td>NaN</td>\n",
       "    </tr>\n",
       "    <tr>\n",
       "      <th>location</th>\n",
       "      <td>NaN</td>\n",
       "      <td>NaN</td>\n",
       "    </tr>\n",
       "  </tbody>\n",
       "</table>\n",
       "<p>63 rows × 2 columns</p>\n",
       "</div>"
      ],
      "text/plain": [
       "                                                                                    0  \\\n",
       "incident_number                                                               9030109   \n",
       "exposure_number                                                                     0   \n",
       "address                                                                 310 Colon Av.   \n",
       "incident_date                                                              04/12/2009   \n",
       "call_number                                                                  91020273   \n",
       "alarm_dttm                                                     04/12/2009 06:09:13 PM   \n",
       "arrival_dttm                                                   04/12/2009 06:13:45 PM   \n",
       "close_dttm                                                     04/12/2009 07:23:13 PM   \n",
       "city                                                                               SF   \n",
       "zipcode                                                                           NaN   \n",
       "battalion                                                                         B09   \n",
       "station_area                                                                       15   \n",
       "box                                                                               NaN   \n",
       "suppression_units                                                                   1   \n",
       "suppression_personnel                                                               5   \n",
       "ems_units                                                                           0   \n",
       "ems_personnel                                                                       0   \n",
       "other_units                                                                         0   \n",
       "other_personnel                                                                     0   \n",
       "first_unit_on_scene                                                               T15   \n",
       "estimated_property_loss                                                           NaN   \n",
       "estimated_contents_loss                                                           NaN   \n",
       "fire_fatalities                                                                     0   \n",
       "fire_injuries                                                                       0   \n",
       "civilian_fatalities                                                                 0   \n",
       "civilian_injuries                                                                   0   \n",
       "number_of_alarms                                                                  NaN   \n",
       "primary_situation                             551 - assist pd or other govern. agency   \n",
       "mutual_aid                                                                       none   \n",
       "action_taken_primary                                              52 - forcible entry   \n",
       "...                                                                               ...   \n",
       "property_use                                                000 - property use, other   \n",
       "area_of_fire_origin                                                               NaN   \n",
       "ignition_cause                                                                    NaN   \n",
       "ignition_factor_primary                                                           NaN   \n",
       "ignition_factor_secondary                                                         NaN   \n",
       "heat_source                                                                       NaN   \n",
       "item_first_ignited                                                                NaN   \n",
       "human_factors_associated_with_ignition                                            NaN   \n",
       "structure_type                                                                    NaN   \n",
       "structure_status                                                                  NaN   \n",
       "floor_of_fire_origin                                                              NaN   \n",
       "fire_spread                                                                       NaN   \n",
       "no_flame_spead                                                                    NaN   \n",
       "number_of_floors_with_minimum_damage                                              NaN   \n",
       "number_of_floors_with_significant_damage                                          NaN   \n",
       "number_of_floors_with_heavy_damage                                                NaN   \n",
       "number_of_floors_with_extreme_damage                                              NaN   \n",
       "detectors_present                                                                 NaN   \n",
       "detector_type                                                                     NaN   \n",
       "detector_operation                                                                NaN   \n",
       "detector_effectiveness                                                            NaN   \n",
       "detector_failure_reason                                                           NaN   \n",
       "automatic_extinguishing_system_present                                            NaN   \n",
       "automatic_extinguishing_sytem_type                                                NaN   \n",
       "automatic_extinguishing_sytem_perfomance                                          NaN   \n",
       "automatic_extinguishing_sytem_failure_reason                                      NaN   \n",
       "number_of_sprinkler_heads_operating                                               NaN   \n",
       "supervisor_district                                                               NaN   \n",
       "neighborhood__district                                                            NaN   \n",
       "location                                                                          NaN   \n",
       "\n",
       "                                                                                          1  \n",
       "incident_number                                                                    13067402  \n",
       "exposure_number                                                                           0  \n",
       "address                                                                      20 Lansdale Av  \n",
       "incident_date                                                                    07/18/2013  \n",
       "call_number                                                                       131990117  \n",
       "alarm_dttm                                                           07/18/2013 10:32:03 AM  \n",
       "arrival_dttm                                                         07/18/2013 10:37:15 AM  \n",
       "close_dttm                                                           07/18/2013 10:39:55 AM  \n",
       "city                                                                                     SF  \n",
       "zipcode                                                                                 NaN  \n",
       "battalion                                                                               B09  \n",
       "station_area                                                                             39  \n",
       "box                                                                                    8571  \n",
       "suppression_units                                                                         3  \n",
       "suppression_personnel                                                                    11  \n",
       "ems_units                                                                                 0  \n",
       "ems_personnel                                                                             0  \n",
       "other_units                                                                               0  \n",
       "other_personnel                                                                           0  \n",
       "first_unit_on_scene                                                                     E39  \n",
       "estimated_property_loss                                                                 NaN  \n",
       "estimated_contents_loss                                                                 NaN  \n",
       "fire_fatalities                                                                           0  \n",
       "fire_injuries                                                                             0  \n",
       "civilian_fatalities                                                                       0  \n",
       "civilian_injuries                                                                         0  \n",
       "number_of_alarms                                                                        NaN  \n",
       "primary_situation                             745 - alarm system sounded/no fire-accidental  \n",
       "mutual_aid                                                                             none  \n",
       "action_taken_primary                                                       86 - investigate  \n",
       "...                                                                                     ...  \n",
       "property_use                                                    429 - multifamily dwellings  \n",
       "area_of_fire_origin                                                                     NaN  \n",
       "ignition_cause                                                                          NaN  \n",
       "ignition_factor_primary                                                                 NaN  \n",
       "ignition_factor_secondary                                                               NaN  \n",
       "heat_source                                                                             NaN  \n",
       "item_first_ignited                                                                      NaN  \n",
       "human_factors_associated_with_ignition                                                  NaN  \n",
       "structure_type                                                                          NaN  \n",
       "structure_status                                                                        NaN  \n",
       "floor_of_fire_origin                                                                    NaN  \n",
       "fire_spread                                                                             NaN  \n",
       "no_flame_spead                                                                          NaN  \n",
       "number_of_floors_with_minimum_damage                                                    NaN  \n",
       "number_of_floors_with_significant_damage                                                NaN  \n",
       "number_of_floors_with_heavy_damage                                                      NaN  \n",
       "number_of_floors_with_extreme_damage                                                    NaN  \n",
       "detectors_present                                                                       NaN  \n",
       "detector_type                                                                           NaN  \n",
       "detector_operation                                                                      NaN  \n",
       "detector_effectiveness                                                                  NaN  \n",
       "detector_failure_reason                                                                 NaN  \n",
       "automatic_extinguishing_system_present                                                  NaN  \n",
       "automatic_extinguishing_sytem_type                                                      NaN  \n",
       "automatic_extinguishing_sytem_perfomance                                                NaN  \n",
       "automatic_extinguishing_sytem_failure_reason                                            NaN  \n",
       "number_of_sprinkler_heads_operating                                                     NaN  \n",
       "supervisor_district                                                                     NaN  \n",
       "neighborhood__district                                                                  NaN  \n",
       "location                                                                                NaN  \n",
       "\n",
       "[63 rows x 2 columns]"
      ]
     },
     "execution_count": 140,
     "metadata": {},
     "output_type": "execute_result"
    }
   ],
   "source": [
    "# change columns to lowercase so easier to deal with\n",
    "fires.columns = map(str.lower, fires.columns)\n",
    "fires.columns = map(lambda x: x.replace(' ', r'_'), fires.columns)\n",
    "# class_codes.columns = map(str.lower, class_codes.columns)\n",
    "fires.head(2).T"
   ]
  },
  {
   "cell_type": "code",
   "execution_count": 141,
   "metadata": {
    "collapsed": true
   },
   "outputs": [],
   "source": [
    "fire_feats = ['other_personnel','other_units','ems_personnel','ems_units','suppression_units', \n",
    "              'suppression_personnel','station_area']"
   ]
  },
  {
   "cell_type": "code",
   "execution_count": 142,
   "metadata": {
    "collapsed": false,
    "scrolled": true
   },
   "outputs": [
    {
     "data": {
      "text/html": [
       "<div>\n",
       "<table border=\"1\" class=\"dataframe\">\n",
       "  <thead>\n",
       "    <tr style=\"text-align: right;\">\n",
       "      <th></th>\n",
       "      <th>incident_date</th>\n",
       "      <th>incident_number</th>\n",
       "      <th>other_personnel</th>\n",
       "      <th>other_units</th>\n",
       "      <th>ems_personnel</th>\n",
       "      <th>ems_units</th>\n",
       "      <th>suppression_units</th>\n",
       "      <th>suppression_personnel</th>\n",
       "    </tr>\n",
       "  </thead>\n",
       "  <tbody>\n",
       "    <tr>\n",
       "      <th>0</th>\n",
       "      <td>01/01/2003</td>\n",
       "      <td>143</td>\n",
       "      <td>0</td>\n",
       "      <td>0</td>\n",
       "      <td>13</td>\n",
       "      <td>6</td>\n",
       "      <td>362</td>\n",
       "      <td>1172</td>\n",
       "    </tr>\n",
       "    <tr>\n",
       "      <th>1</th>\n",
       "      <td>01/01/2004</td>\n",
       "      <td>149</td>\n",
       "      <td>12</td>\n",
       "      <td>6</td>\n",
       "      <td>21</td>\n",
       "      <td>11</td>\n",
       "      <td>344</td>\n",
       "      <td>1318</td>\n",
       "    </tr>\n",
       "    <tr>\n",
       "      <th>2</th>\n",
       "      <td>01/01/2005</td>\n",
       "      <td>95</td>\n",
       "      <td>0</td>\n",
       "      <td>0</td>\n",
       "      <td>23</td>\n",
       "      <td>13</td>\n",
       "      <td>256</td>\n",
       "      <td>923</td>\n",
       "    </tr>\n",
       "    <tr>\n",
       "      <th>3</th>\n",
       "      <td>01/01/2006</td>\n",
       "      <td>96</td>\n",
       "      <td>0</td>\n",
       "      <td>0</td>\n",
       "      <td>6</td>\n",
       "      <td>3</td>\n",
       "      <td>231</td>\n",
       "      <td>841</td>\n",
       "    </tr>\n",
       "    <tr>\n",
       "      <th>4</th>\n",
       "      <td>01/01/2007</td>\n",
       "      <td>131</td>\n",
       "      <td>5</td>\n",
       "      <td>3</td>\n",
       "      <td>41</td>\n",
       "      <td>21</td>\n",
       "      <td>300</td>\n",
       "      <td>1087</td>\n",
       "    </tr>\n",
       "  </tbody>\n",
       "</table>\n",
       "</div>"
      ],
      "text/plain": [
       "  incident_date  incident_number  other_personnel  other_units  ems_personnel  \\\n",
       "0    01/01/2003              143                0            0             13   \n",
       "1    01/01/2004              149               12            6             21   \n",
       "2    01/01/2005               95                0            0             23   \n",
       "3    01/01/2006               96                0            0              6   \n",
       "4    01/01/2007              131                5            3             41   \n",
       "\n",
       "   ems_units  suppression_units  suppression_personnel  \n",
       "0          6                362                   1172  \n",
       "1         11                344                   1318  \n",
       "2         13                256                    923  \n",
       "3          3                231                    841  \n",
       "4         21                300                   1087  "
      ]
     },
     "execution_count": 142,
     "metadata": {},
     "output_type": "execute_result"
    }
   ],
   "source": [
    "fire_date_inc = fires.groupby('incident_date')[['incident_number']].count()\n",
    "fire_date_inc.reset_index(inplace=True)\n",
    "fire_date_sums = fires.groupby('incident_date')[fire_feats].sum()\n",
    "fire_date_sums.reset_index(inplace=True)\n",
    "fire_date = pd.merge(fire_date_inc, fire_date_sums, on='incident_date')\n",
    "fire_date.head()"
   ]
  },
  {
   "cell_type": "markdown",
   "metadata": {},
   "source": [
    "Merge the fire and crime datasets on the incident dates (which happen to be the same range and length). This adds the crime incidents per day to the fire incident dataset. Stil not too many features..."
   ]
  },
  {
   "cell_type": "code",
   "execution_count": 149,
   "metadata": {
    "collapsed": false,
    "scrolled": false
   },
   "outputs": [
    {
     "data": {
      "text/html": [
       "<div>\n",
       "<table border=\"1\" class=\"dataframe\">\n",
       "  <thead>\n",
       "    <tr style=\"text-align: right;\">\n",
       "      <th></th>\n",
       "      <th>incident_date</th>\n",
       "      <th>incident_number</th>\n",
       "      <th>other_personnel</th>\n",
       "      <th>other_units</th>\n",
       "      <th>ems_personnel</th>\n",
       "      <th>ems_units</th>\n",
       "      <th>suppression_units</th>\n",
       "      <th>suppression_personnel</th>\n",
       "      <th>IncidntNum</th>\n",
       "    </tr>\n",
       "  </thead>\n",
       "  <tbody>\n",
       "    <tr>\n",
       "      <th>0</th>\n",
       "      <td>01/01/2003</td>\n",
       "      <td>143</td>\n",
       "      <td>0</td>\n",
       "      <td>0</td>\n",
       "      <td>13</td>\n",
       "      <td>6</td>\n",
       "      <td>362</td>\n",
       "      <td>1172</td>\n",
       "      <td>622</td>\n",
       "    </tr>\n",
       "    <tr>\n",
       "      <th>1</th>\n",
       "      <td>01/01/2004</td>\n",
       "      <td>149</td>\n",
       "      <td>12</td>\n",
       "      <td>6</td>\n",
       "      <td>21</td>\n",
       "      <td>11</td>\n",
       "      <td>344</td>\n",
       "      <td>1318</td>\n",
       "      <td>459</td>\n",
       "    </tr>\n",
       "    <tr>\n",
       "      <th>2</th>\n",
       "      <td>01/01/2005</td>\n",
       "      <td>95</td>\n",
       "      <td>0</td>\n",
       "      <td>0</td>\n",
       "      <td>23</td>\n",
       "      <td>13</td>\n",
       "      <td>256</td>\n",
       "      <td>923</td>\n",
       "      <td>546</td>\n",
       "    </tr>\n",
       "    <tr>\n",
       "      <th>3</th>\n",
       "      <td>01/01/2006</td>\n",
       "      <td>96</td>\n",
       "      <td>0</td>\n",
       "      <td>0</td>\n",
       "      <td>6</td>\n",
       "      <td>3</td>\n",
       "      <td>231</td>\n",
       "      <td>841</td>\n",
       "      <td>621</td>\n",
       "    </tr>\n",
       "    <tr>\n",
       "      <th>4</th>\n",
       "      <td>01/01/2007</td>\n",
       "      <td>131</td>\n",
       "      <td>5</td>\n",
       "      <td>3</td>\n",
       "      <td>41</td>\n",
       "      <td>21</td>\n",
       "      <td>300</td>\n",
       "      <td>1087</td>\n",
       "      <td>538</td>\n",
       "    </tr>\n",
       "  </tbody>\n",
       "</table>\n",
       "</div>"
      ],
      "text/plain": [
       "  incident_date  incident_number  other_personnel  other_units  ems_personnel  \\\n",
       "0    01/01/2003              143                0            0             13   \n",
       "1    01/01/2004              149               12            6             21   \n",
       "2    01/01/2005               95                0            0             23   \n",
       "3    01/01/2006               96                0            0              6   \n",
       "4    01/01/2007              131                5            3             41   \n",
       "\n",
       "   ems_units  suppression_units  suppression_personnel  IncidntNum  \n",
       "0          6                362                   1172         622  \n",
       "1         11                344                   1318         459  \n",
       "2         13                256                    923         546  \n",
       "3          3                231                    841         621  \n",
       "4         21                300                   1087         538  "
      ]
     },
     "execution_count": 149,
     "metadata": {},
     "output_type": "execute_result"
    }
   ],
   "source": [
    "f_c_date = pd.merge(fire_date, crimes_date_cnt, on='incident_date')\n",
    "f_c_date.head()\n"
   ]
  },
  {
   "cell_type": "code",
   "execution_count": 150,
   "metadata": {
    "collapsed": false
   },
   "outputs": [
    {
     "data": {
      "text/html": [
       "<div>\n",
       "<table border=\"1\" class=\"dataframe\">\n",
       "  <thead>\n",
       "    <tr style=\"text-align: right;\">\n",
       "      <th></th>\n",
       "      <th>incident_date</th>\n",
       "      <th>num_fire_incids</th>\n",
       "      <th>other_personnel</th>\n",
       "      <th>other_units</th>\n",
       "      <th>ems_personnel</th>\n",
       "      <th>ems_units</th>\n",
       "      <th>suppression_units</th>\n",
       "      <th>suppression_personnel</th>\n",
       "      <th>num_crime_incids</th>\n",
       "      <th>doy</th>\n",
       "      <th>dow</th>\n",
       "    </tr>\n",
       "  </thead>\n",
       "  <tbody>\n",
       "    <tr>\n",
       "      <th>0</th>\n",
       "      <td>2003-01-01</td>\n",
       "      <td>143</td>\n",
       "      <td>0</td>\n",
       "      <td>0</td>\n",
       "      <td>13</td>\n",
       "      <td>6</td>\n",
       "      <td>362</td>\n",
       "      <td>1172</td>\n",
       "      <td>622</td>\n",
       "      <td>1</td>\n",
       "      <td>2</td>\n",
       "    </tr>\n",
       "    <tr>\n",
       "      <th>1</th>\n",
       "      <td>2004-01-01</td>\n",
       "      <td>149</td>\n",
       "      <td>12</td>\n",
       "      <td>6</td>\n",
       "      <td>21</td>\n",
       "      <td>11</td>\n",
       "      <td>344</td>\n",
       "      <td>1318</td>\n",
       "      <td>459</td>\n",
       "      <td>1</td>\n",
       "      <td>3</td>\n",
       "    </tr>\n",
       "  </tbody>\n",
       "</table>\n",
       "</div>"
      ],
      "text/plain": [
       "  incident_date  num_fire_incids  other_personnel  other_units  ems_personnel  \\\n",
       "0    2003-01-01              143                0            0             13   \n",
       "1    2004-01-01              149               12            6             21   \n",
       "\n",
       "   ems_units  suppression_units  suppression_personnel  num_crime_incids  doy  \\\n",
       "0          6                362                   1172               622    1   \n",
       "1         11                344                   1318               459    1   \n",
       "\n",
       "   dow  \n",
       "0    2  \n",
       "1    3  "
      ]
     },
     "execution_count": 150,
     "metadata": {},
     "output_type": "execute_result"
    }
   ],
   "source": [
    "f_c_date.rename(columns={\"incident_number\": \"num_fire_incids\", \n",
    "                        \"IncidntNum\": \"num_crime_incids\"}, inplace=True)\n",
    "f_c_date.incident_date = pd.to_datetime(f_c_date.incident_date)\n",
    "f_c_date['doy'] = f_c_date.incident_date.apply(lambda x: x.dayofyear)\n",
    "f_c_date['dow'] = f_c_date.incident_date.apply(lambda x: x.dayofweek)\n",
    "f_c_date.head(2)"
   ]
  },
  {
   "cell_type": "code",
   "execution_count": 151,
   "metadata": {
    "collapsed": false,
    "scrolled": false
   },
   "outputs": [
    {
     "data": {
      "image/png": "[encoded data removed]",
      "text/plain": [
       "<matplotlib.figure.Figure at 0x119c61850>"
      ]
     },
     "metadata": {},
     "output_type": "display_data"
    }
   ],
   "source": [
    "f_c_date_corr = f_c_date.corr()\n",
    "plt.rcParams['figure.figsize']=(5,4)\n",
    "\n",
    "# Generate heat map of variable correlations\n",
    "mask = np.zeros_like(f_c_date_corr, dtype=np.bool)\n",
    "mask[np.triu_indices_from(mask)] = True\n",
    "ax = sns.heatmap(f_c_date_corr, mask=mask)\n",
    "ax.set_xticklabels(ax.xaxis.get_ticklabels(), fontsize=14)\n",
    "ax.set_yticklabels(ax.yaxis.get_ticklabels(), fontsize=14)\n",
    "plt.show()"
   ]
  },
  {
   "cell_type": "code",
   "execution_count": 152,
   "metadata": {
    "collapsed": false
   },
   "outputs": [
    {
     "data": {
      "text/plain": [
       "(7, 10)"
      ]
     },
     "execution_count": 152,
     "metadata": {},
     "output_type": "execute_result"
    }
   ],
   "source": [
    "f_c_doy = f_c_date.groupby('doy').sum()\n",
    "f_c_doy.reset_index(inplace=True)\n",
    "f_c_dow = f_c_date.groupby('dow').sum()\n",
    "f_c_dow.reset_index(inplace=True)\n",
    "\n",
    "f_c_dow.shape"
   ]
  },
  {
   "cell_type": "markdown",
   "metadata": {},
   "source": [
    "I realize that I should deal with leap year days, but the below categorization of total incidents for every weekday shows that there are far more incidents on Fridays and Saturdays, therefore emergency personnely short be staffed in their highest number on the weekend nights - although the police and fire departments are probable aware of this already..."
   ]
  },
  {
   "cell_type": "code",
   "execution_count": 153,
   "metadata": {
    "collapsed": false
   },
   "outputs": [
    {
     "data": {
      "image/png": "[encoded data removed]",
      "text/plain": [
       "<matplotlib.figure.Figure at 0x1220f9cd0>"
      ]
     },
     "metadata": {},
     "output_type": "display_data"
    }
   ],
   "source": [
    "plt.plot(f_c_dow.num_fire_incids);"
   ]
  },
  {
   "cell_type": "markdown",
   "metadata": {},
   "source": [
    "Linear regression of dataset - fire incedent predictionusing the other features in the merged dataset."
   ]
  },
  {
   "cell_type": "code",
   "execution_count": 148,
   "metadata": {
    "collapsed": false
   },
   "outputs": [],
   "source": [
    "cols = ['other_personnel','other_units','ems_personnel','ems_units',\n",
    "        'suppression_units','suppression_personnel','num_crime_incids',\n",
    "        'doy','dow']\n",
    "\n",
    "y = f_c_date.num_fire_incids.values\n",
    "X = f_c_date[cols].values\n",
    "\n",
    "ss = StandardScaler()\n",
    "Xn = ss.fit_transform(X)"
   ]
  },
  {
   "cell_type": "code",
   "execution_count": 34,
   "metadata": {
    "collapsed": false
   },
   "outputs": [
    {
     "name": "stdout",
     "output_type": "stream",
     "text": [
      "[-2.56786935  2.2005054   1.78913279  0.54787504  3.56397274  6.89313565\n",
      "  0.57946981  0.60766233  0.37052885]\n",
      "0.31766931547\n",
      "[ 0.23077548  0.20137306  0.2187116   0.39046846  0.31208181  0.26281473\n",
      " -0.31502709  0.20848735 -0.27609293  0.38540545]\n",
      "0.161899791943\n"
     ]
    }
   ],
   "source": [
    "lr = LinearRegression()\n",
    "model = lr.fit(Xn, y)\n",
    "predictions = model.predict(Xn)\n",
    "cv_score = cross_val_score(model, Xn, y, cv=10)\n",
    "print model.coef_\n",
    "print model.score(Xn, y)\n",
    "print cv_score\n",
    "print np.mean(cv_score)"
   ]
  },
  {
   "cell_type": "markdown",
   "metadata": {},
   "source": [
    "The mean linear regression fit does the best job, even compared to the cross-validation prediction errors below."
   ]
  },
  {
   "cell_type": "code",
   "execution_count": 35,
   "metadata": {
    "collapsed": false
   },
   "outputs": [
    {
     "name": "stdout",
     "output_type": "stream",
     "text": [
      "Lasso scores and mean:\n",
      "[ 0.25202634  0.22092039  0.2076899   0.35095128  0.28601987  0.27452478\n",
      " -0.11727047  0.20245976  0.37852116  0.35533004]\n",
      "0.241117303244\n",
      "Ridge scores and mean:\n",
      "[ 0.20797933  0.21837801  0.24177701  0.35372005  0.30367439  0.26734284\n",
      " -0.05781205  0.24219713  0.39610794  0.33917644]\n",
      "0.251254109272\n",
      "ElasticNet scores and mean:\n",
      "[ 0.22082338  0.21416658  0.23360416  0.36274981  0.30385473  0.27143144\n",
      " -0.11698414  0.23337882  0.40419923  0.35523069]\n",
      "0.248245470272\n"
     ]
    }
   ],
   "source": [
    "ridge_alphas = np.logspace(0, 7, 100)\n",
    "\n",
    "optimal_lasso = LassoCV(n_alphas=500, cv=10)\n",
    "optimal_lasso.fit(Xn, y)\n",
    "\n",
    "optimal_ridge = RidgeCV(alphas=ridge_alphas, cv=10)\n",
    "optimal_ridge.fit(Xn, y)\n",
    "\n",
    "optimal_enet = ElasticNetCV(n_alphas=500, cv=10)\n",
    "optimal_enet.fit(Xn, y)\n",
    "\n",
    "lasso = Lasso(alpha=optimal_lasso.alpha_)\n",
    "ridge = Ridge(alpha=optimal_ridge.alpha_)\n",
    "enet = ElasticNet(alpha=optimal_enet.alpha_)\n",
    "\n",
    "lasso_scores = cross_val_score(lasso, Xn, y, cv=10)\n",
    "ridge_scores = cross_val_score(ridge, Xn, y, cv=10)\n",
    "enet_scores = cross_val_score(enet, Xn, y, cv=10)\n",
    "\n",
    "print 'Lasso scores and mean:'\n",
    "print lasso_scores\n",
    "print np.mean(lasso_scores)\n",
    "print 'Ridge scores and mean:'\n",
    "print ridge_scores\n",
    "print np.mean(ridge_scores)\n",
    "print 'ElasticNet scores and mean:'\n",
    "print enet_scores\n",
    "print np.mean(enet_scores)\n"
   ]
  },
  {
   "cell_type": "code",
   "execution_count": 36,
   "metadata": {
    "collapsed": false,
    "scrolled": false
   },
   "outputs": [
    {
     "data": {
      "image/png": "[encoded data removed]",
      "text/plain": [
       "<matplotlib.figure.Figure at 0x122938490>"
      ]
     },
     "metadata": {},
     "output_type": "display_data"
    }
   ],
   "source": [
    "plt.figure(figsize=(7,5))\n",
    "plt.bar(range(1,len(lr.coef_)+1), lr.coef_)\n",
    "plt.xticks(range(1,len(lr.coef_)+1), cols, rotation=80);"
   ]
  },
  {
   "cell_type": "markdown",
   "metadata": {},
   "source": [
    "It appears that the day of the year and the day of the week are not good predictors of fire incidents. The best predictors are those that are the reult of fire incidents, such as 'suppression_personnel' and 'suppression_units'.\n",
    "\n",
    "The vanilla linear regression model seems to be the best model at predicting the number of fire incidents given the specified set of predicors.\n",
    "\n",
    "..."
   ]
  },
  {
   "cell_type": "markdown",
   "metadata": {},
   "source": [
    "<img src=\"http://imgur.com/l5NasQj.png\" style=\"float: left; margin: 25px 15px 0px 0px; height: 25px\">\n",
    "\n",
    "### 4. Conduct another analysis using the San Francisco Parks data to predict Park scores\n",
    "\n",
    "---\n",
    "\n",
    "1. Combining multiple sources of park data (csv files) is required.\n",
    "- Perform EDA and cleaning on relevant data.\n",
    "- Construct and compare different regression models with cross-validation.\n",
    "- Plot descriptive visuals you think are useful for understanding the data.\n",
    "- Report on your findings.\n"
   ]
  },
  {
   "cell_type": "markdown",
   "metadata": {},
   "source": [
    "Loading many datsets, some of which may not be used in the analysis..."
   ]
  },
  {
   "cell_type": "code",
   "execution_count": 37,
   "metadata": {
    "collapsed": false,
    "scrolled": false
   },
   "outputs": [
    {
     "data": {
      "text/html": [
       "<div>\n",
       "<table border=\"1\" class=\"dataframe\">\n",
       "  <thead>\n",
       "    <tr style=\"text-align: right;\">\n",
       "      <th></th>\n",
       "      <th>ParkID</th>\n",
       "      <th>PSA</th>\n",
       "      <th>Park</th>\n",
       "      <th>FQ</th>\n",
       "      <th>Score</th>\n",
       "    </tr>\n",
       "  </thead>\n",
       "  <tbody>\n",
       "    <tr>\n",
       "      <th>0</th>\n",
       "      <td>86</td>\n",
       "      <td>PSA4</td>\n",
       "      <td>Carl Larsen Park</td>\n",
       "      <td>FY05Q3</td>\n",
       "      <td>0.795</td>\n",
       "    </tr>\n",
       "    <tr>\n",
       "      <th>1</th>\n",
       "      <td>13</td>\n",
       "      <td>PSA4</td>\n",
       "      <td>Junipero Serra Playground</td>\n",
       "      <td>FY05Q3</td>\n",
       "      <td>0.957</td>\n",
       "    </tr>\n",
       "  </tbody>\n",
       "</table>\n",
       "</div>"
      ],
      "text/plain": [
       "   ParkID   PSA                       Park      FQ  Score\n",
       "0      86  PSA4           Carl Larsen Park  FY05Q3  0.795\n",
       "1      13  PSA4  Junipero Serra Playground  FY05Q3  0.957"
      ]
     },
     "execution_count": 37,
     "metadata": {},
     "output_type": "execute_result"
    }
   ],
   "source": [
    "cond_ass = pd.read_csv('../../datasets/san_francisco/san_francisco/rec_cond_ass.csv')\n",
    "budg = pd.read_csv('../../datasets/san_francisco/san_francisco/city_budget/budget.csv')\n",
    "parks_sc = pd.read_csv('../../datasets/san_francisco/san_francisco/parks/park_scores.csv')\n",
    "parks_info = pd.read_csv('../../datasets/san_francisco/san_francisco/parks/park_info.csv')\n",
    "parks_don = pd.read_csv('../../datasets/san_francisco/san_francisco/parks/park_donations.csv')\n",
    "\n",
    "parks_info = parks_info[1:]\n",
    "parks_info.columns = map(str.lower, parks_info.columns)\n",
    "parks_don.columns = map(str.lower, parks_don.columns)\n",
    "parks_don.columns = map(lambda x: x.replace(' ', r'_'), parks_don.columns)\n",
    "parks_don.amount = map(lambda x: float(x.replace('$', '')), parks_don.amount)\n",
    "parks_don.close_date = pd.to_datetime(parks_don.close_date)\n",
    "parks_sc.head(2)"
   ]
  },
  {
   "cell_type": "markdown",
   "metadata": {},
   "source": [
    "Initial EDA, using groupby, shows some interesting trends in donations and funding (spending - plot below, for every year)."
   ]
  },
  {
   "cell_type": "code",
   "execution_count": 38,
   "metadata": {
    "collapsed": false,
    "scrolled": true
   },
   "outputs": [
    {
     "data": {
      "image/png": "[encoded data removed]",
      "text/plain": [
       "<matplotlib.figure.Figure at 0x1173fafd0>"
      ]
     },
     "metadata": {},
     "output_type": "display_data"
    }
   ],
   "source": [
    "rec_spend = budg[(budg['Department Code'] == 'REC') & (budg['Revenue or Spending'] == 'Spending')]\n",
    "rec_spend.groupby(['Fiscal Year'])[['Amount']].sum().plot(kind='bar');"
   ]
  },
  {
   "cell_type": "code",
   "execution_count": 39,
   "metadata": {
    "collapsed": false
   },
   "outputs": [
    {
     "data": {
      "text/html": [
       "<div>\n",
       "<table border=\"1\" class=\"dataframe\">\n",
       "  <thead>\n",
       "    <tr style=\"text-align: right;\">\n",
       "      <th></th>\n",
       "      <th>close_date</th>\n",
       "      <th>account_name</th>\n",
       "      <th>description</th>\n",
       "      <th>amount</th>\n",
       "      <th>type</th>\n",
       "      <th>fq</th>\n",
       "      <th>year</th>\n",
       "    </tr>\n",
       "  </thead>\n",
       "  <tbody>\n",
       "    <tr>\n",
       "      <th>0</th>\n",
       "      <td>2014-07-08</td>\n",
       "      <td>Glen Park Association</td>\n",
       "      <td>To support botanical signs at the Sunnyside Co...</td>\n",
       "      <td>500.0</td>\n",
       "      <td>Cash</td>\n",
       "      <td>FY14Q2</td>\n",
       "      <td>2014</td>\n",
       "    </tr>\n",
       "    <tr>\n",
       "      <th>1</th>\n",
       "      <td>2014-07-09</td>\n",
       "      <td>USTA NorCAL</td>\n",
       "      <td>To support HITS tennis programming and provide...</td>\n",
       "      <td>2050.0</td>\n",
       "      <td>Cash</td>\n",
       "      <td>FY14Q2</td>\n",
       "      <td>2014</td>\n",
       "    </tr>\n",
       "  </tbody>\n",
       "</table>\n",
       "</div>"
      ],
      "text/plain": [
       "  close_date           account_name  \\\n",
       "0 2014-07-08  Glen Park Association   \n",
       "1 2014-07-09            USTA NorCAL   \n",
       "\n",
       "                                         description  amount  type      fq  \\\n",
       "0  To support botanical signs at the Sunnyside Co...   500.0  Cash  FY14Q2   \n",
       "1  To support HITS tennis programming and provide...  2050.0  Cash  FY14Q2   \n",
       "\n",
       "   year  \n",
       "0  2014  \n",
       "1  2014  "
      ]
     },
     "execution_count": 39,
     "metadata": {},
     "output_type": "execute_result"
    }
   ],
   "source": [
    "parks_don['fq'] = parks_don.close_date.apply(lambda x: 'FY'+ str(x.strftime('%y')) + 'Q' + str((x.month-1)//3))\n",
    "parks_don['year'] = parks_don.close_date.apply(lambda x: x.year)\n",
    "parks_don.head(2)"
   ]
  },
  {
   "cell_type": "markdown",
   "metadata": {},
   "source": [
    "Donations have drastically increased since the beginning of 2014, this may help elevate scores for the parks."
   ]
  },
  {
   "cell_type": "code",
   "execution_count": 154,
   "metadata": {
    "collapsed": false
   },
   "outputs": [
    {
     "data": {
      "image/png": "[encoded data removed]",
      "text/plain": [
       "<matplotlib.figure.Figure at 0x11b2e0110>"
      ]
     },
     "metadata": {},
     "output_type": "display_data"
    }
   ],
   "source": [
    "parks_don_quar = parks_don.groupby(['fq'])[['amount']].sum()\n",
    "parks_don_quar.plot(kind='bar');"
   ]
  },
  {
   "cell_type": "code",
   "execution_count": 41,
   "metadata": {
    "collapsed": false
   },
   "outputs": [
    {
     "data": {
      "image/png": "[encoded data removed]",
      "text/plain": [
       "<matplotlib.figure.Figure at 0x11b9e9ad0>"
      ]
     },
     "metadata": {},
     "output_type": "display_data"
    }
   ],
   "source": [
    "parks_score_PSA = parks_sc.groupby(['PSA','FQ'])[['Score']].mean()\n",
    "parks_score_quar = parks_sc.groupby(['FQ','PSA'])[['Score']].mean()\n",
    "parks_score_quar.plot(kind='hist', bins=30);"
   ]
  },
  {
   "cell_type": "markdown",
   "metadata": {},
   "source": [
    "It seems that, overall, scores for parks are fairly high in San Francisco. However is it hard to use the scores to predict given that the predictors are limited."
   ]
  },
  {
   "cell_type": "code",
   "execution_count": 155,
   "metadata": {
    "collapsed": false
   },
   "outputs": [
    {
     "data": {
      "text/html": [
       "<div>\n",
       "<table border=\"1\" class=\"dataframe\">\n",
       "  <thead>\n",
       "    <tr style=\"text-align: right;\">\n",
       "      <th></th>\n",
       "      <th>Amount</th>\n",
       "    </tr>\n",
       "    <tr>\n",
       "      <th>Fiscal Year</th>\n",
       "      <th></th>\n",
       "    </tr>\n",
       "  </thead>\n",
       "  <tbody>\n",
       "    <tr>\n",
       "      <th>2010</th>\n",
       "      <td>407902830</td>\n",
       "    </tr>\n",
       "    <tr>\n",
       "      <th>2011</th>\n",
       "      <td>248253304</td>\n",
       "    </tr>\n",
       "    <tr>\n",
       "      <th>2012</th>\n",
       "      <td>250842872</td>\n",
       "    </tr>\n",
       "    <tr>\n",
       "      <th>2013</th>\n",
       "      <td>272021906</td>\n",
       "    </tr>\n",
       "    <tr>\n",
       "      <th>2014</th>\n",
       "      <td>316488958</td>\n",
       "    </tr>\n",
       "    <tr>\n",
       "      <th>2015</th>\n",
       "      <td>320151286</td>\n",
       "    </tr>\n",
       "    <tr>\n",
       "      <th>2016</th>\n",
       "      <td>350575060</td>\n",
       "    </tr>\n",
       "    <tr>\n",
       "      <th>2017</th>\n",
       "      <td>410384880</td>\n",
       "    </tr>\n",
       "    <tr>\n",
       "      <th>2018</th>\n",
       "      <td>388174794</td>\n",
       "    </tr>\n",
       "  </tbody>\n",
       "</table>\n",
       "</div>"
      ],
      "text/plain": [
       "                Amount\n",
       "Fiscal Year           \n",
       "2010         407902830\n",
       "2011         248253304\n",
       "2012         250842872\n",
       "2013         272021906\n",
       "2014         316488958\n",
       "2015         320151286\n",
       "2016         350575060\n",
       "2017         410384880\n",
       "2018         388174794"
      ]
     },
     "execution_count": 155,
     "metadata": {},
     "output_type": "execute_result"
    }
   ],
   "source": [
    "rec_budg = budg[budg['Department Code'] == 'REC']\n",
    "rec_budg.groupby(['Fiscal Year'])[['Amount']].sum()"
   ]
  },
  {
   "cell_type": "markdown",
   "metadata": {},
   "source": [
    "Scour a few features from the 'info' dataset to add to the score dataset. Not too many other sources I could find that could be used to predict park scores besides doing a more elaborate time-series analysis."
   ]
  },
  {
   "cell_type": "code",
   "execution_count": 156,
   "metadata": {
    "collapsed": false,
    "scrolled": false
   },
   "outputs": [
    {
     "data": {
      "text/html": [
       "<div>\n",
       "<table border=\"1\" class=\"dataframe\">\n",
       "  <thead>\n",
       "    <tr style=\"text-align: right;\">\n",
       "      <th></th>\n",
       "      <th>parkname</th>\n",
       "      <th>parktype</th>\n",
       "      <th>parkservicearea</th>\n",
       "      <th>psamanager</th>\n",
       "      <th>email</th>\n",
       "      <th>number</th>\n",
       "      <th>zipcode</th>\n",
       "      <th>acreage</th>\n",
       "      <th>supdist</th>\n",
       "      <th>parkid</th>\n",
       "      <th>location 1</th>\n",
       "      <th>lat</th>\n",
       "    </tr>\n",
       "  </thead>\n",
       "  <tbody>\n",
       "    <tr>\n",
       "      <th>1</th>\n",
       "      <td>10TH AVE/CLEMENT MINI PARK</td>\n",
       "      <td>Mini Park</td>\n",
       "      <td>PSA 1</td>\n",
       "      <td>Elder, Steve</td>\n",
       "      <td>steven.elder@sfgov.org</td>\n",
       "      <td>(415) 601-6501</td>\n",
       "      <td>94118.0</td>\n",
       "      <td>0.66</td>\n",
       "      <td>1.0</td>\n",
       "      <td>156.0</td>\n",
       "      <td>351 9th Ave\\nSan Francisco, CA\\n(37.78184397, ...</td>\n",
       "      <td>NaN</td>\n",
       "    </tr>\n",
       "    <tr>\n",
       "      <th>2</th>\n",
       "      <td>15TH AVENUE STEPS</td>\n",
       "      <td>Mini Park</td>\n",
       "      <td>PSA 4</td>\n",
       "      <td>Sheehy, Chuck</td>\n",
       "      <td>charles.sheehy@sfgov.org</td>\n",
       "      <td>(415) 218-2226</td>\n",
       "      <td>94122.0</td>\n",
       "      <td>0.26</td>\n",
       "      <td>7.0</td>\n",
       "      <td>185.0</td>\n",
       "      <td>15th Ave b w Kirkham\\nSan Francisco, CA\\n(37.7...</td>\n",
       "      <td>NaN</td>\n",
       "    </tr>\n",
       "  </tbody>\n",
       "</table>\n",
       "</div>"
      ],
      "text/plain": [
       "                     parkname   parktype parkservicearea     psamanager  \\\n",
       "1  10TH AVE/CLEMENT MINI PARK  Mini Park           PSA 1   Elder, Steve   \n",
       "2           15TH AVENUE STEPS  Mini Park           PSA 4  Sheehy, Chuck   \n",
       "\n",
       "                      email          number  zipcode  acreage  supdist  \\\n",
       "1    steven.elder@sfgov.org  (415) 601-6501  94118.0     0.66      1.0   \n",
       "2  charles.sheehy@sfgov.org  (415) 218-2226  94122.0     0.26      7.0   \n",
       "\n",
       "   parkid                                         location 1  lat  \n",
       "1   156.0  351 9th Ave\\nSan Francisco, CA\\n(37.78184397, ...  NaN  \n",
       "2   185.0  15th Ave b w Kirkham\\nSan Francisco, CA\\n(37.7...  NaN  "
      ]
     },
     "execution_count": 156,
     "metadata": {},
     "output_type": "execute_result"
    }
   ],
   "source": [
    "parks_info.head(2)"
   ]
  },
  {
   "cell_type": "code",
   "execution_count": 157,
   "metadata": {
    "collapsed": false
   },
   "outputs": [
    {
     "data": {
      "text/html": [
       "<div>\n",
       "<table border=\"1\" class=\"dataframe\">\n",
       "  <thead>\n",
       "    <tr style=\"text-align: right;\">\n",
       "      <th></th>\n",
       "      <th>parkid</th>\n",
       "      <th>acreage</th>\n",
       "      <th>supdist</th>\n",
       "    </tr>\n",
       "  </thead>\n",
       "  <tbody>\n",
       "    <tr>\n",
       "      <th>1</th>\n",
       "      <td>156</td>\n",
       "      <td>0.66</td>\n",
       "      <td>1.0</td>\n",
       "    </tr>\n",
       "    <tr>\n",
       "      <th>2</th>\n",
       "      <td>185</td>\n",
       "      <td>0.26</td>\n",
       "      <td>7.0</td>\n",
       "    </tr>\n",
       "  </tbody>\n",
       "</table>\n",
       "</div>"
      ],
      "text/plain": [
       "   parkid  acreage  supdist\n",
       "1     156     0.66      1.0\n",
       "2     185     0.26      7.0"
      ]
     },
     "execution_count": 157,
     "metadata": {},
     "output_type": "execute_result"
    }
   ],
   "source": [
    "info_cut = parks_info[['parkid','acreage','supdist']]\n",
    "info_cut.parkid = info_cut.parkid.values.astype(int)\n",
    "info_cut.head(2)"
   ]
  },
  {
   "cell_type": "code",
   "execution_count": 158,
   "metadata": {
    "collapsed": false
   },
   "outputs": [
    {
     "data": {
      "text/html": [
       "<div>\n",
       "<table border=\"1\" class=\"dataframe\">\n",
       "  <thead>\n",
       "    <tr style=\"text-align: right;\">\n",
       "      <th></th>\n",
       "      <th>parkid</th>\n",
       "      <th>Score</th>\n",
       "    </tr>\n",
       "  </thead>\n",
       "  <tbody>\n",
       "    <tr>\n",
       "      <th>0</th>\n",
       "      <td>1</td>\n",
       "      <td>0.915485</td>\n",
       "    </tr>\n",
       "    <tr>\n",
       "      <th>1</th>\n",
       "      <td>2</td>\n",
       "      <td>1.000000</td>\n",
       "    </tr>\n",
       "    <tr>\n",
       "      <th>2</th>\n",
       "      <td>4</td>\n",
       "      <td>0.925576</td>\n",
       "    </tr>\n",
       "    <tr>\n",
       "      <th>3</th>\n",
       "      <td>6</td>\n",
       "      <td>0.954545</td>\n",
       "    </tr>\n",
       "    <tr>\n",
       "      <th>4</th>\n",
       "      <td>7</td>\n",
       "      <td>0.914758</td>\n",
       "    </tr>\n",
       "  </tbody>\n",
       "</table>\n",
       "</div>"
      ],
      "text/plain": [
       "   parkid     Score\n",
       "0       1  0.915485\n",
       "1       2  1.000000\n",
       "2       4  0.925576\n",
       "3       6  0.954545\n",
       "4       7  0.914758"
      ]
     },
     "execution_count": 158,
     "metadata": {},
     "output_type": "execute_result"
    }
   ],
   "source": [
    "sc_cut = parks_sc.groupby(['ParkID'])[['Score']].mean()\n",
    "sc_cut.reset_index(inplace=True)\n",
    "sc_cut.rename(columns={\"ParkID\": \"parkid\"}, inplace=True)\n",
    "sc_cut.head()"
   ]
  },
  {
   "cell_type": "code",
   "execution_count": 46,
   "metadata": {
    "collapsed": false
   },
   "outputs": [
    {
     "data": {
      "text/html": [
       "<div>\n",
       "<table border=\"1\" class=\"dataframe\">\n",
       "  <thead>\n",
       "    <tr style=\"text-align: right;\">\n",
       "      <th></th>\n",
       "      <th>parkid</th>\n",
       "      <th>acreage</th>\n",
       "      <th>supdist</th>\n",
       "      <th>Score</th>\n",
       "    </tr>\n",
       "  </thead>\n",
       "  <tbody>\n",
       "    <tr>\n",
       "      <th>0</th>\n",
       "      <td>156</td>\n",
       "      <td>0.66</td>\n",
       "      <td>1.0</td>\n",
       "      <td>0.910440</td>\n",
       "    </tr>\n",
       "    <tr>\n",
       "      <th>1</th>\n",
       "      <td>51</td>\n",
       "      <td>0.12</td>\n",
       "      <td>9.0</td>\n",
       "      <td>0.978033</td>\n",
       "    </tr>\n",
       "    <tr>\n",
       "      <th>2</th>\n",
       "      <td>194</td>\n",
       "      <td>0.82</td>\n",
       "      <td>8.0</td>\n",
       "      <td>0.896750</td>\n",
       "    </tr>\n",
       "    <tr>\n",
       "      <th>3</th>\n",
       "      <td>46</td>\n",
       "      <td>2.74</td>\n",
       "      <td>10.0</td>\n",
       "      <td>0.807344</td>\n",
       "    </tr>\n",
       "    <tr>\n",
       "      <th>4</th>\n",
       "      <td>117</td>\n",
       "      <td>12.70</td>\n",
       "      <td>5.0</td>\n",
       "      <td>0.896548</td>\n",
       "    </tr>\n",
       "  </tbody>\n",
       "</table>\n",
       "</div>"
      ],
      "text/plain": [
       "   parkid  acreage  supdist     Score\n",
       "0     156     0.66      1.0  0.910440\n",
       "1      51     0.12      9.0  0.978033\n",
       "2     194     0.82      8.0  0.896750\n",
       "3      46     2.74     10.0  0.807344\n",
       "4     117    12.70      5.0  0.896548"
      ]
     },
     "execution_count": 46,
     "metadata": {},
     "output_type": "execute_result"
    }
   ],
   "source": [
    "# inner merge of meager datasets\n",
    "score_df = pd.merge(info_cut, sc_cut, how='inner', on='parkid')\n",
    "score_df.head()"
   ]
  },
  {
   "cell_type": "markdown",
   "metadata": {},
   "source": [
    "Linear regression of the merges dataset with scant features..."
   ]
  },
  {
   "cell_type": "code",
   "execution_count": 159,
   "metadata": {
    "collapsed": false
   },
   "outputs": [
    {
     "name": "stdout",
     "output_type": "stream",
     "text": [
      "[ 0.00390772 -0.0073128  -0.01811658]\n",
      "0.0594814626268\n",
      "[-0.07349153  0.08127125  0.05825692 -1.6342851  -0.42682693  0.36793562\n",
      " -0.14461814  0.0801458  -0.12595954  0.05327092]\n",
      "-0.176430073353\n"
     ]
    }
   ],
   "source": [
    "y = score_df.Score.values\n",
    "X = score_df[['parkid','acreage','supdist']].values\n",
    "\n",
    "ss = StandardScaler()\n",
    "Xn = ss.fit_transform(X)\n",
    "\n",
    "lr = LinearRegression()\n",
    "model = lr.fit(Xn, y)\n",
    "predictions = model.predict(Xn)\n",
    "cv_score = cross_val_score(model, Xn, y, cv=10)\n",
    "print model.coef_\n",
    "print model.score(Xn, y)\n",
    "print cv_score\n",
    "print np.mean(cv_score)"
   ]
  },
  {
   "cell_type": "code",
   "execution_count": 160,
   "metadata": {
    "collapsed": false
   },
   "outputs": [
    {
     "name": "stdout",
     "output_type": "stream",
     "text": [
      "Lasso scores and mean:\n",
      "[-0.06293427  0.09182605  0.0521393   0.20455818 -0.42634782  0.3457042\n",
      " -0.12389799  0.07319145 -0.11084532  0.04923214]\n",
      "0.00926259103059\n",
      "Ridge scores and mean:\n",
      "[-0.04425302  0.10263545  0.04377365  0.15800266 -0.41913588  0.31827729\n",
      " -0.0846723   0.06067785 -0.08422668  0.04314364]\n",
      "0.00942226632773\n",
      "ElasticNet scores and mean:\n",
      "[-0.06289845  0.09184853  0.05214728  0.20439284 -0.42625294  0.34581699\n",
      " -0.12381205  0.07318788 -0.11080428  0.0492343 ]\n",
      "0.00928600829811\n"
     ]
    }
   ],
   "source": [
    "ridge_alphas = np.logspace(0, 7, 100)\n",
    "\n",
    "optimal_lasso = LassoCV(n_alphas=500, cv=10)\n",
    "optimal_lasso.fit(Xn, y)\n",
    "\n",
    "optimal_ridge = RidgeCV(alphas=ridge_alphas, cv=10)\n",
    "optimal_ridge.fit(Xn, y)\n",
    "\n",
    "optimal_enet = ElasticNetCV(n_alphas=500, cv=10)\n",
    "optimal_enet.fit(Xn, y)\n",
    "\n",
    "lasso = Lasso(alpha=optimal_lasso.alpha_)\n",
    "ridge = Ridge(alpha=optimal_ridge.alpha_)\n",
    "enet = ElasticNet(alpha=optimal_enet.alpha_)\n",
    "\n",
    "lasso_scores = cross_val_score(lasso, Xn, y, cv=10)\n",
    "ridge_scores = cross_val_score(ridge, Xn, y, cv=10)\n",
    "enet_scores = cross_val_score(enet, Xn, y, cv=10)\n",
    "\n",
    "print 'Lasso scores and mean:'\n",
    "print lasso_scores\n",
    "print np.mean(lasso_scores)\n",
    "print 'Ridge scores and mean:'\n",
    "print ridge_scores\n",
    "print np.mean(ridge_scores)\n",
    "print 'ElasticNet scores and mean:'\n",
    "print enet_scores\n",
    "print np.mean(enet_scores)\n"
   ]
  },
  {
   "cell_type": "markdown",
   "metadata": {},
   "source": [
    "It appears that my analysis is very poor. In the beggining of this section I explained that EDA showed parks have an overall high rating and have increasing amounts of donations flowing into them. There budgets have increased so it is likely that their ratings are will increase in the future. \n",
    "\n",
    "The dataset contained many features categorized as strings. It's possible to examine this dataset through time series analysis and try to predict the scores that way, since there seems to be a chronological trend.\n",
    "\n",
    "Most of the features are categorical so it is difficult to use them for linear regression. With more time maybe I could have generated a better model, alas I must finish this homework assignment..."
   ]
  },
  {
   "cell_type": "markdown",
   "metadata": {},
   "source": [
    "<img src=\"http://imgur.com/GCAf1UX.png\" style=\"float: left; margin: 25px 15px 0px 0px; height: 25px\">\n",
    "\n",
    "## 5. Bias-variance tradeoff\n",
    "\n",
    "---\n",
    "\n",
    "1. Use a model from any of the previous questions above of your choice and construct a regularized regression model . Ideally the model should actually improve across regularization strengths...\n",
    "- Gridsearch the regularization parameters to find the optimal.\n",
    "- Plot the regularization parameter against the cross-validated $R^2$.\n",
    "- Explain how regularization and regularization strength is related to the bias-variance tradeoff.\n"
   ]
  },
  {
   "cell_type": "markdown",
   "metadata": {
    "collapsed": true
   },
   "source": [
    "Didn't really have time to manipulate any of the poorly-characterized datasets, above...but felt that I could still answer point 4.\n",
    "\n",
    "During regularization, a penalty is added to the loss funtion proportional to the size of the betas and a coefficient, $\\lambda$ (strength). The optimal regularization $\\lambda$ value is found through cross-validating the model and minimizing the cost function through various values of $\\lambda$. This is often accomplished with GridSearchCV.\n",
    "\n",
    "Finding the optimal regularization $\\lambda$ allows a model to find the best trade-off between variance and bias. This can also guide the level of model complexity which also attempts to find the perfect balance between variance and bias. \n",
    "\n",
    "Of course, all of this means no difference if the dataset is flawed for analysis to begin with, then the high variance and bias will never be improved past a certain point."
   ]
  },
  {
   "cell_type": "markdown",
   "metadata": {},
   "source": [
    "<img src=\"http://imgur.com/xDpSobf.png\" style=\"float: left; margin: 25px 15px 0px 0px; height: 25px\">\n",
    "\n",
    "### 5.1 Calculate the approximated $\\text{bias}^2$ and variance across regularization strengths.\n",
    "\n",
    "---\n",
    "\n",
    "You can obviously use my code from the bias-variance lab to do this. \n",
    "\n",
    "Plot the bias and variance change _with_ the cross-validated $R^2$. \n",
    "\n",
    "You'll need to scale these values somehow to put them on the same chart (I recommend (MinMaxScaler)[http://scikit-learn.org/stable/modules/generated/sklearn.preprocessing.MinMaxScaler.html] to put $\\text{bias}^2$ and variance on the same scale as cross-validated $R^2$."
   ]
  },
  {
   "cell_type": "code",
   "execution_count": null,
   "metadata": {
    "collapsed": true
   },
   "outputs": [],
   "source": []
  },
  {
   "cell_type": "markdown",
   "metadata": {},
   "source": [
    "<img src=\"http://imgur.com/HNPKfE8.png\" style=\"float: left; margin: 25px 15px 0px 0px; height: 25px\">\n",
    "\n",
    "## 6. Custom regularized regression penalties\n",
    "\n",
    "---\n",
    "\n",
    "The $\\lambda1$ and $\\lambda2$ norm regularization penalties (Lasso and Ridge) are the most commonly used regularization penalties. They have a solid foundation in statistics and evidence of effectiveness. However, these are not the only possible penalties for regression – sometimes new, customized penalties give additional performance and predictive power to models depending on the context.\n",
    "\n",
    "\n",
    "**Devise of and implement a penalized regression for San Francisco Crime data.** What is your rationale – why would this be useful? How does it perform compared to the standard Ridge, Lasso, and Elastic Net penalties?"
   ]
  },
  {
   "cell_type": "markdown",
   "metadata": {
    "collapsed": true
   },
   "source": [
    "## Statistics, Biases, and Hypothesis Testing"
   ]
  },
  {
   "cell_type": "markdown",
   "metadata": {},
   "source": [
    "<img src=\"http://imgur.com/l5NasQj.png\" style=\"float: left; margin: 25px 15px 0px 0px; height: 25px\">\n",
    "\n",
    "## 7. Biases \n",
    "\n",
    "---\n",
    "A new food ordering smartphone app incentivizes its users to invite their friends by offering them free orders for each friend that signs up\n",
    "- What biases are being caused here?\n",
    " \n",
    "- How would you measure the success of such a program?\n",
    "  \n",
    "- Rephrase this question to be unbiased:\n",
    "    ** Many people have said that there is a need for stricter laws on dangerous weapons. Do you agree? ** \n",
    "   \n"
   ]
  },
  {
   "cell_type": "markdown",
   "metadata": {},
   "source": [
    "This incentived offer introduces a bias into the dataset by encouraging the creation of ghost accounts which people create to simply obtain a free meal. People may create an alias or make their partner sign up for an account which will never be used. So although the app is increasing the number of users by a large amount, they may not see an increase in order volume. This would throw off (or bias) models that depend heavily on user numbers or distort predictions of future transaction volume.\n",
    "\n",
    "I would measure the success of the program by seeing if there was an increase in transaction number during the offer that continued or kept increasing after the end of the offer period. It would also be possible to track how many of the accounts established during the offer period continued to use the app - and how many may have stopped using the app after the offer period ended.\n",
    "\n",
    "\n",
    "\n",
    "An unbiased rephrasing of this question would likely involve a different answer request - \"do you agree?\" may introduce bias against the framing and supposition integrated into the question. A better question, while maintaining the same response metric, would be:\n",
    "\n",
    "\"Do you agree that their should be restricted access to dangerous weapons?\""
   ]
  },
  {
   "cell_type": "markdown",
   "metadata": {},
   "source": [
    "<img src=\"http://imgur.com/l5NasQj.png\" style=\"float: left; margin: 25px 15px 0px 0px; height: 25px\">\n",
    "\n",
    "## 8. Hypothesis Testing \n",
    "\n",
    "---\n",
    "\n",
    "For the health/mortality data from the following website: \n",
    "http://assets.datacamp.com/blog_assets/chol.txt'\n",
    "\n",
    "\n",
    "- Generate summary statistics, histogram plots, cdf plots, and confidence intervals for two columns of your choice and a correlation matrix across all\n",
    "- Using what you generated, provide short summaries of each column describing the data\n",
    "- Is there a difference in mortality between smokers, nonsmokers?\n",
    "- If national average weight is 85 pounds, is our weight average significantly different?\n",
    "- Until now, we’ve only asked is it different. This is called a two sided test. \n",
    "    - What if we want to know if its less than or greater than? This is called a one sided test. We can calculate this from the result of a two sided. You divide your p value in half and check if your t statistic is positive or negative Greater than: p/2 < confidence level and t > 0 and Less-than: p/2 < confidence level and t < 0.\n",
    "    \n",
    "    - If national average weight is 85 pounds, is our weight average statistical significantly less?"
   ]
  },
  {
   "cell_type": "code",
   "execution_count": 161,
   "metadata": {
    "collapsed": false
   },
   "outputs": [
    {
     "data": {
      "text/html": [
       "<div>\n",
       "<table border=\"1\" class=\"dataframe\">\n",
       "  <thead>\n",
       "    <tr style=\"text-align: right;\">\n",
       "      <th></th>\n",
       "      <th>age</th>\n",
       "      <th>height</th>\n",
       "      <th>weight</th>\n",
       "      <th>chol</th>\n",
       "      <th>smoke</th>\n",
       "      <th>blood</th>\n",
       "      <th>mort</th>\n",
       "    </tr>\n",
       "  </thead>\n",
       "  <tbody>\n",
       "    <tr>\n",
       "      <th>0</th>\n",
       "      <td>20</td>\n",
       "      <td>176</td>\n",
       "      <td>77</td>\n",
       "      <td>195</td>\n",
       "      <td>nonsmo</td>\n",
       "      <td>b</td>\n",
       "      <td>alive</td>\n",
       "    </tr>\n",
       "    <tr>\n",
       "      <th>1</th>\n",
       "      <td>53</td>\n",
       "      <td>167</td>\n",
       "      <td>56</td>\n",
       "      <td>250</td>\n",
       "      <td>sigare</td>\n",
       "      <td>o</td>\n",
       "      <td>dead</td>\n",
       "    </tr>\n",
       "    <tr>\n",
       "      <th>2</th>\n",
       "      <td>44</td>\n",
       "      <td>170</td>\n",
       "      <td>80</td>\n",
       "      <td>304</td>\n",
       "      <td>sigare</td>\n",
       "      <td>a</td>\n",
       "      <td>dead</td>\n",
       "    </tr>\n",
       "    <tr>\n",
       "      <th>3</th>\n",
       "      <td>37</td>\n",
       "      <td>173</td>\n",
       "      <td>89</td>\n",
       "      <td>178</td>\n",
       "      <td>nonsmo</td>\n",
       "      <td>o</td>\n",
       "      <td>alive</td>\n",
       "    </tr>\n",
       "    <tr>\n",
       "      <th>4</th>\n",
       "      <td>26</td>\n",
       "      <td>170</td>\n",
       "      <td>71</td>\n",
       "      <td>206</td>\n",
       "      <td>sigare</td>\n",
       "      <td>o</td>\n",
       "      <td>alive</td>\n",
       "    </tr>\n",
       "  </tbody>\n",
       "</table>\n",
       "</div>"
      ],
      "text/plain": [
       "   age  height  weight  chol   smoke blood   mort\n",
       "0   20     176      77   195  nonsmo     b  alive\n",
       "1   53     167      56   250  sigare     o   dead\n",
       "2   44     170      80   304  sigare     a   dead\n",
       "3   37     173      89   178  nonsmo     o  alive\n",
       "4   26     170      71   206  sigare     o  alive"
      ]
     },
     "execution_count": 161,
     "metadata": {},
     "output_type": "execute_result"
    }
   ],
   "source": [
    "hm_data = pd.read_csv('./h_m_ds.txt', sep=' ')\n",
    "hm_data.columns = map(str.lower, hm_data.columns)\n",
    "hm_data.head()"
   ]
  },
  {
   "cell_type": "code",
   "execution_count": 162,
   "metadata": {
    "collapsed": false
   },
   "outputs": [
    {
     "data": {
      "text/html": [
       "<div>\n",
       "<table border=\"1\" class=\"dataframe\">\n",
       "  <thead>\n",
       "    <tr style=\"text-align: right;\">\n",
       "      <th></th>\n",
       "      <th>age</th>\n",
       "      <th>height</th>\n",
       "      <th>weight</th>\n",
       "      <th>chol</th>\n",
       "      <th>smoke</th>\n",
       "      <th>blood</th>\n",
       "      <th>mort</th>\n",
       "    </tr>\n",
       "  </thead>\n",
       "  <tbody>\n",
       "    <tr>\n",
       "      <th>0</th>\n",
       "      <td>20</td>\n",
       "      <td>176</td>\n",
       "      <td>77</td>\n",
       "      <td>195</td>\n",
       "      <td>0</td>\n",
       "      <td>b</td>\n",
       "      <td>0</td>\n",
       "    </tr>\n",
       "    <tr>\n",
       "      <th>1</th>\n",
       "      <td>53</td>\n",
       "      <td>167</td>\n",
       "      <td>56</td>\n",
       "      <td>250</td>\n",
       "      <td>1</td>\n",
       "      <td>o</td>\n",
       "      <td>1</td>\n",
       "    </tr>\n",
       "    <tr>\n",
       "      <th>2</th>\n",
       "      <td>44</td>\n",
       "      <td>170</td>\n",
       "      <td>80</td>\n",
       "      <td>304</td>\n",
       "      <td>1</td>\n",
       "      <td>a</td>\n",
       "      <td>1</td>\n",
       "    </tr>\n",
       "    <tr>\n",
       "      <th>3</th>\n",
       "      <td>37</td>\n",
       "      <td>173</td>\n",
       "      <td>89</td>\n",
       "      <td>178</td>\n",
       "      <td>0</td>\n",
       "      <td>o</td>\n",
       "      <td>0</td>\n",
       "    </tr>\n",
       "    <tr>\n",
       "      <th>4</th>\n",
       "      <td>26</td>\n",
       "      <td>170</td>\n",
       "      <td>71</td>\n",
       "      <td>206</td>\n",
       "      <td>1</td>\n",
       "      <td>o</td>\n",
       "      <td>0</td>\n",
       "    </tr>\n",
       "  </tbody>\n",
       "</table>\n",
       "</div>"
      ],
      "text/plain": [
       "   age  height  weight  chol  smoke blood  mort\n",
       "0   20     176      77   195      0     b     0\n",
       "1   53     167      56   250      1     o     1\n",
       "2   44     170      80   304      1     a     1\n",
       "3   37     173      89   178      0     o     0\n",
       "4   26     170      71   206      1     o     0"
      ]
     },
     "execution_count": 162,
     "metadata": {},
     "output_type": "execute_result"
    }
   ],
   "source": [
    "# clean stuff, convert columns\n",
    "## convert two columns to true or false\n",
    "true = [\"sigare\",\"pipe\",\"dead\"]\n",
    "false = [\"nonsmo\",\"alive\"]\n",
    "hm_data.replace(to_replace=true, value=1, inplace=True)\n",
    "hm_data.replace(to_replace=false, value=0, inplace=True)\n",
    "# ditch blood column\n",
    "#hm_data = hm_data[[x for x in hm_data.columns if x != \"blood\"]]\n",
    "hm_data.head()"
   ]
  },
  {
   "cell_type": "code",
   "execution_count": 163,
   "metadata": {
    "collapsed": false
   },
   "outputs": [
    {
     "data": {
      "image/png": "[encoded data removed]",
      "text/plain": [
       "<matplotlib.figure.Figure at 0x11a83b4d0>"
      ]
     },
     "metadata": {},
     "output_type": "display_data"
    }
   ],
   "source": [
    "plt.hist(hm_data.age, bins=20)\n",
    "plt.title('Age distribution');"
   ]
  },
  {
   "cell_type": "code",
   "execution_count": 164,
   "metadata": {
    "collapsed": false,
    "scrolled": true
   },
   "outputs": [
    {
     "data": {
      "image/png": "[encoded data removed]",
      "text/plain": [
       "<matplotlib.figure.Figure at 0x119df2590>"
      ]
     },
     "metadata": {},
     "output_type": "display_data"
    }
   ],
   "source": [
    "plt.hist(hm_data.height, bins=18)\n",
    "plt.title('Height distribution');"
   ]
  },
  {
   "cell_type": "code",
   "execution_count": 165,
   "metadata": {
    "collapsed": false
   },
   "outputs": [
    {
     "data": {
      "image/png": "[encoded data removed]",
      "text/plain": [
       "<matplotlib.figure.Figure at 0x170a08ad0>"
      ]
     },
     "metadata": {},
     "output_type": "display_data"
    }
   ],
   "source": [
    "plt.hist(hm_data.weight, bins=18)\n",
    "plt.title('Weight distribution');"
   ]
  },
  {
   "cell_type": "code",
   "execution_count": 166,
   "metadata": {
    "collapsed": false
   },
   "outputs": [
    {
     "data": {
      "image/png": "[encoded data removed]",
      "text/plain": [
       "<matplotlib.figure.Figure at 0x11e06f910>"
      ]
     },
     "metadata": {},
     "output_type": "display_data"
    }
   ],
   "source": [
    "plt.hist(hm_data.chol, bins=18)\n",
    "plt.title('Cholesterol distribution');"
   ]
  },
  {
   "cell_type": "code",
   "execution_count": 167,
   "metadata": {
    "collapsed": false
   },
   "outputs": [
    {
     "name": "stdout",
     "output_type": "stream",
     "text": [
      "Compared against the whole population of this small dataset:\n",
      "Smoker mortality rate: 0.1\n",
      "Non-smoker mortality rate: 0.02\n"
     ]
    }
   ],
   "source": [
    "yes = hm_data[hm_data.smoke == 1]\n",
    "no = hm_data[hm_data.smoke == 0]\n",
    "smok_mort = yes.mort.sum()/float(len(hm_data.mort))\n",
    "non_mort = no.mort.sum()/float(len(hm_data.mort))\n",
    "\n",
    "print 'Compared against the whole population of this small dataset:'\n",
    "print 'Smoker mortality rate: {}'.format(smok_mort)\n",
    "print 'Non-smoker mortality rate: {}'.format(non_mort)"
   ]
  },
  {
   "cell_type": "markdown",
   "metadata": {},
   "source": [
    "The smokers have a higher mortality when compared to the whole population. It would be interesting to see how the cholesterol distributions compare for smokers and non-smokers."
   ]
  },
  {
   "cell_type": "code",
   "execution_count": 168,
   "metadata": {
    "collapsed": false
   },
   "outputs": [
    {
     "data": {
      "image/png": "[encoded data removed]",
      "text/plain": [
       "<matplotlib.figure.Figure at 0x11a867750>"
      ]
     },
     "metadata": {},
     "output_type": "display_data"
    }
   ],
   "source": [
    "plt.hist(yes.chol, bins=12, range=(100,350))\n",
    "plt.hist(no.chol, bins=12, range=(100,350), color='g')\n",
    "plt.title('Cholesterol distribution');"
   ]
  },
  {
   "cell_type": "code",
   "execution_count": 169,
   "metadata": {
    "collapsed": false
   },
   "outputs": [
    {
     "name": "stdout",
     "output_type": "stream",
     "text": [
      "There are far less non smokers and the mean cholesterol of the population is different\n",
      "Mean chol. smoker: 236.152317881\n",
      "Mean chol. non smoker: 225.734693878\n"
     ]
    }
   ],
   "source": [
    "print 'There are far less non smokers and the mean cholesterol of the population is different'\n",
    "print 'Mean chol. smoker: {}'.format(yes.chol.mean())\n",
    "print 'Mean chol. non smoker: {}'.format(no.chol.mean())"
   ]
  },
  {
   "cell_type": "markdown",
   "metadata": {},
   "source": [
    "### Weight comparisons"
   ]
  },
  {
   "cell_type": "markdown",
   "metadata": {},
   "source": [
    "Only knowing the mean of the overall total population, we can use a z-test to compare how well the populations overlap."
   ]
  },
  {
   "cell_type": "code",
   "execution_count": 170,
   "metadata": {
    "collapsed": false,
    "scrolled": true
   },
   "outputs": [
    {
     "data": {
      "image/png": "[encoded data removed]",
      "text/plain": [
       "<matplotlib.figure.Figure at 0x117cd0810>"
      ]
     },
     "metadata": {},
     "output_type": "display_data"
    }
   ],
   "source": [
    "plt.figure(figsize=(8,6))\n",
    "plt.hist(hm_data.weight, bins=25)\n",
    "plt.title('Weight distribution');"
   ]
  },
  {
   "cell_type": "code",
   "execution_count": 171,
   "metadata": {
    "collapsed": false
   },
   "outputs": [
    {
     "name": "stdout",
     "output_type": "stream",
     "text": [
      "Mean weight: 75.885\n",
      "StDev weight: 10.4159385079\n"
     ]
    }
   ],
   "source": [
    "mean_w = np.mean(hm_data.weight)\n",
    "std_w = np.std(hm_data.weight)\n",
    "print 'Mean weight: {}'.format(mean_w)\n",
    "print 'StDev weight: {}'.format(std_w)"
   ]
  },
  {
   "cell_type": "markdown",
   "metadata": {},
   "source": [
    "We can use the above statistics, along with the number of the sample population, to calculate a z-score for this distribution compared to the entire population which has a mean of 85."
   ]
  },
  {
   "cell_type": "code",
   "execution_count": 172,
   "metadata": {
    "collapsed": false
   },
   "outputs": [
    {
     "name": "stdout",
     "output_type": "stream",
     "text": [
      "0.736518075135 -12.3757994647\n"
     ]
    }
   ],
   "source": [
    "# Manual calculation of the z-score\n",
    "stand_err = std_w/np.sqrt(len(hm_data))\n",
    "z_score = (mean_w - 85.)/stand_err\n",
    "print stand_err, z_score"
   ]
  },
  {
   "cell_type": "code",
   "execution_count": 173,
   "metadata": {
    "collapsed": false
   },
   "outputs": [
    {
     "data": {
      "text/plain": [
       "(-12.344821194685455, 5.1949526167927626e-35)"
      ]
     },
     "execution_count": 173,
     "metadata": {},
     "output_type": "execute_result"
    }
   ],
   "source": [
    "# run a ztest \n",
    "from statsmodels.stats.weightstats import ztest\n",
    "\n",
    "ztest(hm_data.weight.values, value=85., alternative=\"two-sided\")"
   ]
  },
  {
   "cell_type": "markdown",
   "metadata": {},
   "source": [
    "There are very similar values for the manually calculate z-score and the stats model score. The z-score is very large, meaning that the populations means are more than 12.34 standard deviations away from each other. This is not signficant within a 0.90 confidence interval, and is off of the z-score tables. This means that we can reject the null hypothesis because the sample population has a significantly different distibution than the full population."
   ]
  },
  {
   "cell_type": "code",
   "execution_count": null,
   "metadata": {
    "collapsed": true
   },
   "outputs": [],
   "source": []
  }
 ],
 "metadata": {
  "anaconda-cloud": {},
  "kernelspec": {
   "display_name": "Python [dsi]",
   "language": "python",
   "name": "Python [dsi]"
  },
  "language_info": {
   "codemirror_mode": {
    "name": "ipython",
    "version": 2
   },
   "file_extension": ".py",
   "mimetype": "text/x-python",
   "name": "python",
   "nbconvert_exporter": "python",
   "pygments_lexer": "ipython2",
   "version": "2.7.13"
  }
 },
 "nbformat": 4,
 "nbformat_minor": 0
}
